{
 "cells": [
  {
   "cell_type": "markdown",
   "id": "bffd9c2d",
   "metadata": {},
   "source": [
    "# LLM as an Interpreter using Judges"
   ]
  },
  {
   "cell_type": "code",
   "execution_count": 2,
   "id": "db4e7e78",
   "metadata": {},
   "outputs": [],
   "source": [
    "from openai import OpenAI\n",
    "from openai import AzureOpenAI\n",
    "from dotenv import load_dotenv\n",
    "\n",
    "import json\n",
    "\n",
    "import os\n"
   ]
  },
  {
   "cell_type": "code",
   "execution_count": 4,
   "id": "baf3ca45",
   "metadata": {},
   "outputs": [],
   "source": [
    "from azure.identity import DefaultAzureCredential, get_bearer_token_provider"
   ]
  },
  {
   "cell_type": "code",
   "execution_count": 5,
   "id": "b87bfc45",
   "metadata": {},
   "outputs": [],
   "source": [
    "from textwrap import dedent\n",
    "from judges.base import BaseJudge, Judgment"
   ]
  },
  {
   "cell_type": "code",
   "execution_count": 6,
   "id": "db915f98",
   "metadata": {},
   "outputs": [
    {
     "data": {
      "text/plain": [
       "True"
      ]
     },
     "execution_count": 6,
     "metadata": {},
     "output_type": "execute_result"
    }
   ],
   "source": [
    "load_dotenv()"
   ]
  },
  {
   "cell_type": "code",
   "execution_count": 13,
   "id": "4144053d",
   "metadata": {},
   "outputs": [],
   "source": [
    "\n",
    "client = OpenAI(\n",
    "    api_key=os.environ.get(\"OPENAI_API_KEY\")  # Recommended to store in .env\n",
    ")\n"
   ]
  },
  {
   "cell_type": "code",
   "execution_count": 7,
   "id": "6f7d9653",
   "metadata": {},
   "outputs": [],
   "source": [
    "##  Azure Setup\n",
    "token_provider = get_bearer_token_provider(DefaultAzureCredential(), os.environ.get(\"GET_TOKEN\"))\n",
    "client = AzureOpenAI(\n",
    "    api_version=\"2024-12-01-preview\",\n",
    "    azure_endpoint=os.environ.get(\"AZURE_SERVICES_ENDPOINT\"),\n",
    "    azure_ad_token_provider=token_provider,\n",
    ")"
   ]
  },
  {
   "cell_type": "code",
   "execution_count": 10,
   "id": "a89b4725",
   "metadata": {},
   "outputs": [],
   "source": [
    "def client_call_test( messages ):\n",
    "    output = client.chat.completions.create(\n",
    "        model='gpt-4o',\n",
    "        messages = messages\n",
    "\n",
    "    ).choices[0].message.content\n",
    "    return output"
   ]
  },
  {
   "cell_type": "code",
   "execution_count": 11,
   "id": "0a9adf70",
   "metadata": {},
   "outputs": [
    {
     "data": {
      "text/plain": [
       "\"Hello! I'm just a virtual assistant, so I don't have feelings, but thank you for asking. How can I assist you today? 😊\""
      ]
     },
     "execution_count": 11,
     "metadata": {},
     "output_type": "execute_result"
    }
   ],
   "source": [
    "mess = [\n",
    "        {\n",
    "            'role': 'user', \n",
    "            'content': \"hi, how are you?\",\n",
    "        },\n",
    "    ]\n",
    "client_call_test(messages=mess)"
   ]
  },
  {
   "cell_type": "markdown",
   "id": "4cb87c5e",
   "metadata": {},
   "source": [
    "## LLM-as-an-Interpreter"
   ]
  },
  {
   "cell_type": "code",
   "execution_count": 12,
   "id": "e84c92ec",
   "metadata": {},
   "outputs": [
    {
     "name": "stdout",
     "output_type": "stream",
     "text": [
      "{'A': {'name': 'Dimensionality Assumption (3D)', 'description': 'Assuming the cross product is defined for 3D vectors only, which shapes the input contract (length 3) and the formula used.', 'attribution_weight': 0.15}, 'B': {'name': 'Mathematical Correctness', 'description': 'Implementing the exact right-hand-rule determinant formula to ensure accurate results and expected orientation.', 'attribution_weight': 0.2}, 'C': {'name': 'Input Validation', 'description': 'Checking that both inputs are vectors of length 3 to prevent silent errors and provide clear failure modes.', 'attribution_weight': 0.12}, 'D': {'name': 'Type Choices & Hints', 'description': 'Using List[float] for clarity and interoperability, with static typing hints to aid IDEs and linters.', 'attribution_weight': 0.06}, 'E': {'name': 'Error Handling Strategy', 'description': 'Raising ValueError with a helpful message when inputs are invalid to guide callers quickly.', 'attribution_weight': 0.07}, 'F': {'name': 'Simplicity & Readability', 'description': 'Preferring a minimal, explicit implementation without abstractions so it’s easy to read, review, and maintain.', 'attribution_weight': 0.1}, 'G': {'name': 'Dependency Avoidance', 'description': 'Implementing in pure Python without external libraries (e.g., NumPy) to reduce setup friction and increase portability.', 'attribution_weight': 0.08}, 'H': {'name': 'Performance Considerations', 'description': 'Using constant-time arithmetic with no loops or allocations beyond the result list for low overhead.', 'attribution_weight': 0.06}, 'I': {'name': 'Return Format Consistency', 'description': 'Returning a plain list to match input types and common Python idioms, simplifying downstream use.', 'attribution_weight': 0.06}, 'J': {'name': 'Documentation & Usability', 'description': 'Providing a concise docstring (args, returns, errors) and example usage to improve developer experience.', 'attribution_weight': 0.1}}\n"
     ]
    }
   ],
   "source": [
    "## Test case cross product\n",
    "with open('input/scenarios/output_crossproduct.json', 'r', encoding='utf-8') as file:\n",
    "    factors = json.load(file)\n",
    "\n",
    "print(factors)\n"
   ]
  },
  {
   "cell_type": "code",
   "execution_count": 13,
   "id": "a1a42c68",
   "metadata": {},
   "outputs": [
    {
     "name": "stdout",
     "output_type": "stream",
     "text": [
      "from typing import List\n",
      "\n",
      "def cross_product(vec1: List[float], vec2: List[float]) -> List[float]:\n",
      "    \"\"\"\n",
      "    Compute the cross product of two 3D vectors.\n",
      "\n",
      "    Args:\n",
      "        vec1 (List[float]): First vector of length 3.\n",
      "        vec2 (List[float]): Second vector of length 3.\n",
      "\n",
      "    Returns:\n",
      "        List[float]: The cross product vector.\n",
      "\n",
      "    Raises:\n",
      "        ValueError: If either vector is not of length 3.\n",
      "    \"\"\"\n",
      "    if len(vec1) != 3 or len(vec2) != 3:\n",
      "        raise ValueError(\"Both vectors must have exactly 3 elements.\")\n",
      "\n",
      "    return [\n",
      "        vec1[1] * vec2[2] - vec1[2] * vec2[1],\n",
      "        vec1[2] * vec2[0] - vec1[0] * vec2[2],\n",
      "        vec1[0] * vec2[1] - vec1[1] * vec2[0]\n",
      "    ]\n"
     ]
    }
   ],
   "source": [
    "with open('input/scenarios/generated_crossproduct.py', 'r', encoding='utf-8') as file:\n",
    "    focal_method = file.read()\n",
    "\n",
    "print(focal_method)"
   ]
  },
  {
   "cell_type": "code",
   "execution_count": 14,
   "id": "eb964d11",
   "metadata": {},
   "outputs": [],
   "source": [
    "CAUSAL_PROMPT_BASE = (\n",
    "    \"[CAUSAL TASK] Giving the following variable in the json file {factors}, \"\n",
    "    \"generate a causal graph that explains how the variables influence each other. \"\n",
    "    \"Consider that those variables are influencing the generation of the function \"\n",
    "    \"{focal_method}, \"\n",
    "    \"therefore the code generation should be a separate node in the graph. \"\n",
    "    \"The outcome must be in Graphviz DOT format.\"\n",
    ")\n"
   ]
  },
  {
   "cell_type": "code",
   "execution_count": 15,
   "id": "717b35b7",
   "metadata": {},
   "outputs": [],
   "source": [
    "messages=[\n",
    "    {\n",
    "        \"role\": \"system\",\n",
    "        \"content\": \"You are an expert in causal inference and counterfactual reasoning. Your job is to infer a causal graph from a set of variables and draft counterfactual explanations.\",\n",
    "    },\n",
    "    {\n",
    "        \"role\": \"user\",\n",
    "        \"content\": CAUSAL_PROMPT_BASE.format(factors=factors, focal_method=focal_method),\n",
    "    }\n",
    "]"
   ]
  },
  {
   "cell_type": "code",
   "execution_count": 16,
   "id": "11ce4162",
   "metadata": {},
   "outputs": [
    {
     "data": {
      "text/plain": [
       "'Below is a causal graph generated in Graphviz DOT format that explains how the variables influence each other and contribute to the design and implementation of the `cross_product` function. In the graph, the `cross_product` node represents the code that is influenced by other nodes. The arrows indicate causal relationships.\\n\\n```dot\\ndigraph causal_graph {\\n    rankdir=LR;\\n\\n    // Nodes for input factors\\n    A [label=\"Dimensionality Assumption (3D)\", shape=box];\\n    B [label=\"Mathematical Correctness\", shape=box];\\n    C [label=\"Input Validation\", shape=box];\\n    D [label=\"Type Choices & Hints\", shape=box];\\n    E [label=\"Error Handling Strategy\", shape=box];\\n    F [label=\"Simplicity & Readability\", shape=box];\\n    G [label=\"Dependency Avoidance\", shape=box];\\n    H [label=\"Performance Considerations\", shape=box];\\n    I [label=\"Return Format Consistency\", shape=box];\\n    J [label=\"Documentation & Usability\", shape=box];\\n\\n    // Node for the implementation\\n    cross_product [label=\"cross_product Function Code\", shape=ellipse, style=bold, color=blue];\\n\\n    // Edges representing causal relationships\\n    A -> cross_product [label=\"Defines input contract and formula\"];\\n    B -> cross_product [label=\"Ensures accuracy and orientation\"];\\n    C -> cross_product [label=\"Prevents silent errors\"];\\n    D -> cross_product [label=\"Improves type clarity\"];\\n    E -> cross_product [label=\"Guides invalid input handling\"];\\n    F -> cross_product [label=\"Maintains simplicity\"];\\n    G -> cross_product [label=\"Avoids setup friction\"];\\n    H -> cross_product [label=\"Optimizes runtime performance\"];\\n    I -> cross_product [label=\"Ensures consistent return\"];\\n    J -> cross_product [label=\"Improves usability and adoption\"];\\n}\\n```\\n\\n### Explanation of the Graph\\n1. **Nodes:** Each node in the graph corresponds to one of the given variables, and the `cross_product` node represents the function implementation.\\n2. **Edges:** Each edge represents a causal relationship where the source node influences the target node. For instance, \"Mathematical Correctness (B)\" influences the implementation by ensuring that the formula is accurate.\\n3. **Rank Direction:** The graph is laid out left-to-right (`rankdir=LR`) for better readability.\\n\\nThis causal graph provides a clear visualization of how the various considerations shape the design and implementation of the `cross_product` function.'"
      ]
     },
     "execution_count": 16,
     "metadata": {},
     "output_type": "execute_result"
    }
   ],
   "source": [
    "output = client_call_test(messages)\n",
    "output"
   ]
  },
  {
   "cell_type": "code",
   "execution_count": 17,
   "id": "1d800c6d",
   "metadata": {},
   "outputs": [],
   "source": [
    "# | export \n",
    "class CodeInterpreterJudge(BaseJudge):\n",
    "    def judge(\n",
    "        self,\n",
    "        factors: str,\n",
    "        focal_method: str,\n",
    "        node: str = 'C',\n",
    "        #expected: str = None,\n",
    "    ) -> Judgment:\n",
    "        \"\"\"\n",
    "        Judge the causal graph and return a counterfactual explanation.\n",
    "        \n",
    "        Parameters:\n",
    "        -----------\n",
    "        factors: str\n",
    "            A Json-Like input with the factors that contributes to a code generation.\n",
    "        focal_method: str  \n",
    "            The output generated by the neural code model.\n",
    "        expected: str\n",
    "            The expected output for comparison (optional).\n",
    "        \n",
    "        Returns:\n",
    "        --------\n",
    "        Judgment:\n",
    "            The evaluation result containing the score and reasoning.\n",
    "        \"\"\"\n",
    "        # Causal system-level instructions\n",
    "\n",
    "\n",
    "        CAUSAL_PROMPT_BASE = (\n",
    "            \"[CAUSAL TASK] Giving the following variable in the json file {factors}, \"\n",
    "            \"generate a causal graph that explains how the variables influence each other. \"\n",
    "            \"Consider that those variables are influencing the generation of the function \"\n",
    "            \"{focal_method}, \"\n",
    "            \"therefore the code generation should be a separate node in the graph. \"\n",
    "            \"The outcome must be in Graphviz DOT format.\"\n",
    "        )\n",
    "\n",
    "        SYSTEM_PROMPT = (\n",
    "            \"You are an expert in causal inference and counterfactual reasoning. \"\n",
    "            \"Your job is to infer a causal graph from a set of variables and draft counterfactual explanations.\"\n",
    "        )\n",
    "\n",
    "        causal_messages=[\n",
    "            {\n",
    "                \"role\": \"system\",\n",
    "                \"content\": SYSTEM_PROMPT,\n",
    "            },\n",
    "            {\n",
    "                \"role\": \"user\",\n",
    "                \"content\": CAUSAL_PROMPT_BASE.format(factors=factors, focal_method=focal_method),\n",
    "            }\n",
    "        ]\n",
    "\n",
    "        causal_graph = client_call_test(messages = causal_messages)\n",
    "\n",
    "\n",
    "\n",
    "        # Optional system-level instructions\n",
    "\n",
    "        USER_PROMPT = dedent(\n",
    "            f\"\"\"\n",
    "            [COUNTERFACTUAL TASK] What would have changed or happened if the software tester had not considered \n",
    "            the variable {node} during the generation of the {focal_method}? \n",
    "            Provide at most three counterfactual answers. Estimate a probability of occurrence for each answer based solely \n",
    "            on the causal graph {causal_graph} in Graphviz DOT format. The outcome must be contained in a json format in which the first level \n",
    "            comprises the name of the counterfactual answer; the second level comprises a description of the answer, \n",
    "            a step by step of the rationale of that counterfactual answer, and the probability of occurrence.\n",
    "            \"\"\"\n",
    "        )\n",
    "        \n",
    "        reasoning, score = self._judge(\n",
    "            user_prompt = USER_PROMPT,\n",
    "            system_prompt = SYSTEM_PROMPT,\n",
    "        )\n",
    "        \n",
    "        return Judgment(reasoning=reasoning, score=score, score_type=\"boolean\")"
   ]
  },
  {
   "cell_type": "code",
   "execution_count": null,
   "id": "28651cab",
   "metadata": {},
   "outputs": [],
   "source": [
    "# Initialize your judge\n",
    "politeness_judge = CodeInterpreterJudge(model='openai/gpt-4o-mini')\n",
    "\n",
    "# Evaluate a response\n",
    "judgment = politeness_judge.judge(\n",
    "    input=\"Can you help me with my homework?\",\n",
    "    output=\"Sure! I'd be happy to help you with your homework. What subject are you working on?\"\n",
    ")\n",
    "\n",
    "print(judgment.reasoning)\n",
    "print(judgment.score)"
   ]
  },
  {
   "cell_type": "markdown",
   "id": "4da4167f",
   "metadata": {},
   "source": [
    "### Testing `InterpreterJudge` "
   ]
  },
  {
   "cell_type": "markdown",
   "id": "895ae1ab",
   "metadata": {},
   "source": []
  }
 ],
 "metadata": {
  "kernelspec": {
   "display_name": ".venv",
   "language": "python",
   "name": "python3"
  },
  "language_info": {
   "codemirror_mode": {
    "name": "ipython",
    "version": 3
   },
   "file_extension": ".py",
   "mimetype": "text/x-python",
   "name": "python",
   "nbconvert_exporter": "python",
   "pygments_lexer": "ipython3",
   "version": "3.12.3"
  }
 },
 "nbformat": 4,
 "nbformat_minor": 5
}
