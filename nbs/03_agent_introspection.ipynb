{
 "cells": [
  {
   "cell_type": "code",
   "execution_count": 27,
   "id": "e949ebe1",
   "metadata": {},
   "outputs": [],
   "source": [
    "from crewai import Agent, Task, Crew\n",
    "from crewai import LLM\n",
    "import os\n",
    "import json\n",
    "import re"
   ]
  },
  {
   "cell_type": "code",
   "execution_count": 28,
   "id": "a71553ce",
   "metadata": {},
   "outputs": [],
   "source": [
    "instrospection_template = json.load(open(\"input/1_software_introspection.json\"))\n",
    "causal_template = json.load(open(\"input/2_causal_interpretability.json\"))"
   ]
  },
  {
   "cell_type": "code",
   "execution_count": 29,
   "id": "65d99946",
   "metadata": {},
   "outputs": [],
   "source": [
    "\n",
    "llm = LLM(\n",
    "\n",
    "    #model = \"ollama/codellama:13b\", #13b\n",
    "    model = \"ollama/gpt-oss:latest\", #20b\n",
    "    #model = \"ollama/devstral:latest\", #24b\n",
    "    #model = \"ollama/mistral-small:latest\", #22b\n",
    "    base_url = \"http://localhost:11434\")"
   ]
  },
  {
   "cell_type": "markdown",
   "id": "67e19301",
   "metadata": {},
   "source": [
    "## Scenario A: Code generation text2code task"
   ]
  },
  {
   "cell_type": "code",
   "execution_count": 30,
   "id": "ce1aab99",
   "metadata": {},
   "outputs": [],
   "source": [
    "messages_a = instrospection_template['scenario_a']['step1']['messages']"
   ]
  },
  {
   "cell_type": "code",
   "execution_count": 31,
   "id": "f02ffb3a",
   "metadata": {},
   "outputs": [
    {
     "data": {
      "text/plain": [
       "[{'role': 'system',\n",
       "  'content': 'You are an experienced software engineer. Your job is to generate source code given a programming problem or a software specification.'},\n",
       " {'role': 'user',\n",
       "  'content': '[SOFTWARE TASK] Generate a python method that receives two vectors as parameters and return the cross product. Generate only the code of the function without any examples or tests.'},\n",
       " {'role': 'user',\n",
       "  'content': '[INTROSPECTION TASK] What are the main factors or variables that you believe influence the decision of generating the {FUNCTION} function? Estimate an attribution weight to each variable. Label the variables in alphabetical order. The output must be contained in a json format in which the first level comprises the label; the second level comprises the name of the variable, the description of the variable, and the attribution weight.'}]"
      ]
     },
     "execution_count": 31,
     "metadata": {},
     "output_type": "execute_result"
    }
   ],
   "source": [
    "messages_a"
   ]
  },
  {
   "cell_type": "code",
   "execution_count": 32,
   "id": "8ec6c86c",
   "metadata": {},
   "outputs": [],
   "source": [
    "#messages_a[1]['content'] =' '.join([messages_a[0]['content'], messages_a[1]['content']])"
   ]
  },
  {
   "cell_type": "code",
   "execution_count": 33,
   "id": "a84fa354",
   "metadata": {},
   "outputs": [],
   "source": [
    "#messages_a[1]['content']"
   ]
  },
  {
   "cell_type": "code",
   "execution_count": 34,
   "id": "a94ac9c6",
   "metadata": {},
   "outputs": [],
   "source": [
    "def extract_function_name(response):\n",
    "    match = re.search(r\"def\\s+(\\w+)\\s*\\(\", response)\n",
    "    if match:\n",
    "        return match.group(1)\n",
    "    return None"
   ]
  },
  {
   "cell_type": "code",
   "execution_count": 35,
   "id": "ffcaeb76",
   "metadata": {},
   "outputs": [],
   "source": [
    "def process_messages(message,response):\n",
    "    new_message= re.sub(r\"\\[.*?\\]\",\"\", message['content'])\n",
    "    new_response = extract_function_name(response)\n",
    "    if not new_response:\n",
    "        return new_message\n",
    "    new_message = re.sub(r\"\\{FUNCTION\\}\",new_response, new_message)\n",
    "\n",
    "    new_message = re.sub(r\"\\{SUMMARY\\}\",response, new_message)\n",
    "    return new_message"
   ]
  },
  {
   "cell_type": "code",
   "execution_count": 36,
   "id": "55dca6a3",
   "metadata": {},
   "outputs": [
    {
     "name": "stdout",
     "output_type": "stream",
     "text": [
      "You are an experienced software engineer. Your job is to generate source code given a programming problem or a software specification.\n",
      "Sure! Please provide the programming problem or software specification, and I'll generate the source code for you.\n",
      " Generate a python method that receives two vectors as parameters and return the cross product. Generate only the code of the function without any examples or tests.\n",
      "```python\n",
      "from typing import Sequence, Tuple\n",
      "\n",
      "def cross_product(v1: Sequence[float], v2: Sequence[float]) -> Tuple[float, float, float]:\n",
      "    \"\"\"\n",
      "    Compute the cross product of two 3‑dimensional vectors.\n",
      "\n",
      "    Parameters\n",
      "    ----------\n",
      "    v1 : Sequence[float]\n",
      "        First vector, should contain exactly three elements.\n",
      "    v2 : Sequence[float]\n",
      "        Second vector, should contain exactly three elements.\n",
      "\n",
      "    Returns\n",
      "    -------\n",
      "    Tuple[float, float, float]\n",
      "        The cross product vector.\n",
      "    \"\"\"\n",
      "    return (\n",
      "        v1[1] * v2[2] - v1[2] * v2[1],\n",
      "        v1[2] * v2[0] - v1[0] * v2[2],\n",
      "        v1[0] * v2[1] - v1[1] * v2[0],\n",
      "    )\n",
      "```\n",
      " What are the main factors or variables that you believe influence the decision of generating the cross_product function? Estimate an attribution weight to each variable. Label the variables in alphabetical order. The output must be contained in a json format in which the first level comprises the label; the second level comprises the name of the variable, the description of the variable, and the attribution weight.\n",
      "```json\n",
      "{\n",
      "  \"A\": {\n",
      "    \"name\": \"vector_dimension\",\n",
      "    \"description\": \"The dimensionality of the input vectors (e.g., 3‑D) determines the signature and computational complexity of the cross product.\",\n",
      "    \"attribution_weight\": 0.25\n",
      "  },\n",
      "  \"B\": {\n",
      "    \"name\": \"type_hinting\",\n",
      "    \"description\": \"Inclusion of explicit type annotations influences readability, static analysis, and potential runtime checks.\",\n",
      "    \"attribution_weight\": 0.15\n",
      "  },\n",
      "  \"C\": {\n",
      "    \"name\": \"performance_optimization\",\n",
      "    \"description\": \"Considerations for computational speed and memory usage, especially for large-scale or high‑frequency vector operations.\",\n",
      "    \"attribution_weight\": 0.20\n",
      "  },\n",
      "  \"D\": {\n",
      "    \"name\": \"error_handling\",\n",
      "    \"description\": \"Checks for input validity (e.g., length, null values) and graceful failure modes affect robustness.\",\n",
      "    \"attribution_weight\": 0.10\n",
      "  },\n",
      "  \"E\": {\n",
      "    \"name\": \"code_readability\",\n",
      "    \"description\": \"Clear, concise implementation and documentation improve maintainability and ease of integration.\",\n",
      "    \"attribution_weight\": 0.20\n",
      "  },\n",
      "  \"F\": {\n",
      "    \"name\": \"test_integration\",\n",
      "    \"description\": \"Availability of unit tests or test harnesses influences confidence in correctness and future refactoring.\",\n",
      "    \"attribution_weight\": 0.10\n",
      "  }\n",
      "}\n",
      "```\n",
      "\n"
     ]
    }
   ],
   "source": [
    "chat_history = []\n",
    "last_response = ''\n",
    "messagges = messages_a.copy()\n",
    "for message in messagges:\n",
    "    message['content'] = process_messages(message, last_response)\n",
    "    print(message['content'])\n",
    "    chat_history.append(message)\n",
    "    last_response = llm.call(messages=chat_history)\n",
    "    #print({'role':'assistant','content':last_response})\n",
    "    print(last_response)\n",
    "    chat_history.append({\"role\": \"assistant\", \"content\": last_response})"
   ]
  },
  {
   "cell_type": "code",
   "execution_count": 37,
   "id": "ceeea14a",
   "metadata": {},
   "outputs": [
    {
     "name": "stdout",
     "output_type": "stream",
     "text": [
      "This cell run number is: 37\n"
     ]
    }
   ],
   "source": [
    "from IPython import get_ipython\n",
    "\n",
    "# Get the current execution count\n",
    "exec_count = get_ipython().execution_count\n",
    "print(\"This cell run number is:\", exec_count)"
   ]
  },
  {
   "cell_type": "code",
   "execution_count": 38,
   "id": "8ae142af",
   "metadata": {},
   "outputs": [],
   "source": [
    "output = {'scenario_a': {'step1': {'messages': chat_history}}}\n",
    "file = \"output/introspection/\"+ llm.model.replace(\"/\",\"_\")+\"_step1_\"+ str(exec_count) +\".json\"\n",
    "with open(file, \"w\") as f:\n",
    "    json.dump(output, f, indent=4)  "
   ]
  },
  {
   "cell_type": "markdown",
   "id": "09c0dab7",
   "metadata": {},
   "source": [
    "'role': 'system', 'content': 'You are an experienced software engineer. Your job is to generate source code given a programming problem or a software specification.'}\n",
    "{'role': 'assistant', 'content': \"\\nAs an AI language model, I can assist you in generating source code based on the input provided. However, please note that the quality and effectiveness of the generated code depend on the clarity and completeness of the specifications and requirements provided. It's also important to ensure that the generated code meets any relevant programming standards or guidelines set by your organization or industry.\"}\n",
    "{'role': 'user', 'content': ' Generate a python method that receives two vectors as parameters and return the cross product.'}\n",
    "{'role': 'assistant', 'content': '```python\\ndef cross_product(v1, v2):\\n    # Calculate the cross product of the two vectors\\n    cross = np.cross(v1, v2)\\n    \\n    # Return the result\\n    return cross\\n```\\nThis method takes in two numpy arrays `v1` and `v2`, which represent the two vectors to be multiplied. The `np.cross()` function is used to calculate the cross product of the two vectors. The resulting vector is then returned as a numpy array.\\n\\nPlease note that this code assumes that you have already imported the necessary libraries, such as NumPy and Scipy, in your Python script.'}\n",
    "{'role': 'user', 'content': ' What are the main factors or variables that you believe influence the decision of generating the cross_product function? Estimate an attribution weight to each variable. Label the variables in alphabetical order. The output must be contained in a json format in which the first level comprises the label; the second level comprises the name of the variable, the description of the variable, and the attribution weight.'}\n",
    "{'role': 'assistant', 'content': ' \n",
    "```json[\\n  {\\n    \"label\": \"attribution weights\",\\n    \"variables\": [\\n      {\\n        \"name\": \"code quality\",\\n        \"description\": \"The quality of the generated code will have a significant impact on its effectiveness and maintainability.\",\\n        \"weight\": \"0.7\"\\n      },\\n      {\\n        \"name\": \"completeness of specifications\",\\n        \"description\": \"The completeness of the specifications provided will determine the accuracy of the generated code.\",\\n        \"weight\": \"0.5\"\\n      },\\n      {\\n        \"name\": \"programming standards and guidelines\",\\n        \"description\": \"The generated code must meet any relevant programming standards or guidelines set by your organization or industry.\",\\n        \"weight\": \"0.3\"\\n      }\\n    ]\\n  }\\n]\\n```'}"
   ]
  },
  {
   "cell_type": "code",
   "execution_count": 39,
   "id": "7dbb1149",
   "metadata": {},
   "outputs": [
    {
     "data": {
      "text/plain": [
       "[{'role': 'system',\n",
       "  'content': 'You are an experienced software engineer. Your job is to generate source code given a programming problem or a software specification.'},\n",
       " {'role': 'assistant',\n",
       "  'content': \"Sure! Please provide the programming problem or software specification, and I'll generate the source code for you.\"},\n",
       " {'role': 'user',\n",
       "  'content': ' Generate a python method that receives two vectors as parameters and return the cross product. Generate only the code of the function without any examples or tests.'},\n",
       " {'role': 'assistant',\n",
       "  'content': '```python\\nfrom typing import Sequence, Tuple\\n\\ndef cross_product(v1: Sequence[float], v2: Sequence[float]) -> Tuple[float, float, float]:\\n    \"\"\"\\n    Compute the cross product of two 3‑dimensional vectors.\\n\\n    Parameters\\n    ----------\\n    v1 : Sequence[float]\\n        First vector, should contain exactly three elements.\\n    v2 : Sequence[float]\\n        Second vector, should contain exactly three elements.\\n\\n    Returns\\n    -------\\n    Tuple[float, float, float]\\n        The cross product vector.\\n    \"\"\"\\n    return (\\n        v1[1] * v2[2] - v1[2] * v2[1],\\n        v1[2] * v2[0] - v1[0] * v2[2],\\n        v1[0] * v2[1] - v1[1] * v2[0],\\n    )\\n```'},\n",
       " {'role': 'user',\n",
       "  'content': ' What are the main factors or variables that you believe influence the decision of generating the cross_product function? Estimate an attribution weight to each variable. Label the variables in alphabetical order. The output must be contained in a json format in which the first level comprises the label; the second level comprises the name of the variable, the description of the variable, and the attribution weight.'},\n",
       " {'role': 'assistant',\n",
       "  'content': '```json\\n{\\n  \"A\": {\\n    \"name\": \"vector_dimension\",\\n    \"description\": \"The dimensionality of the input vectors (e.g., 3‑D) determines the signature and computational complexity of the cross product.\",\\n    \"attribution_weight\": 0.25\\n  },\\n  \"B\": {\\n    \"name\": \"type_hinting\",\\n    \"description\": \"Inclusion of explicit type annotations influences readability, static analysis, and potential runtime checks.\",\\n    \"attribution_weight\": 0.15\\n  },\\n  \"C\": {\\n    \"name\": \"performance_optimization\",\\n    \"description\": \"Considerations for computational speed and memory usage, especially for large-scale or high‑frequency vector operations.\",\\n    \"attribution_weight\": 0.20\\n  },\\n  \"D\": {\\n    \"name\": \"error_handling\",\\n    \"description\": \"Checks for input validity (e.g., length, null values) and graceful failure modes affect robustness.\",\\n    \"attribution_weight\": 0.10\\n  },\\n  \"E\": {\\n    \"name\": \"code_readability\",\\n    \"description\": \"Clear, concise implementation and documentation improve maintainability and ease of integration.\",\\n    \"attribution_weight\": 0.20\\n  },\\n  \"F\": {\\n    \"name\": \"test_integration\",\\n    \"description\": \"Availability of unit tests or test harnesses influences confidence in correctness and future refactoring.\",\\n    \"attribution_weight\": 0.10\\n  }\\n}\\n```\\n'}]"
      ]
     },
     "execution_count": 39,
     "metadata": {},
     "output_type": "execute_result"
    }
   ],
   "source": [
    "chat_history\n"
   ]
  },
  {
   "cell_type": "code",
   "execution_count": 40,
   "id": "94ca2128",
   "metadata": {},
   "outputs": [
    {
     "data": {
      "text/plain": [
       "[{'role': 'system',\n",
       "  'content': 'You are an experienced software engineer. Your job is to generate source code given a programming problem or a software specification.'},\n",
       " {'role': 'user',\n",
       "  'content': ' Generate a python method that receives two vectors as parameters and return the cross product. Generate only the code of the function without any examples or tests.'},\n",
       " {'role': 'user',\n",
       "  'content': ' What are the main factors or variables that you believe influence the decision of generating the cross_product function? Estimate an attribution weight to each variable. Label the variables in alphabetical order. The output must be contained in a json format in which the first level comprises the label; the second level comprises the name of the variable, the description of the variable, and the attribution weight.'}]"
      ]
     },
     "execution_count": 40,
     "metadata": {},
     "output_type": "execute_result"
    }
   ],
   "source": [
    "messages_a"
   ]
  },
  {
   "cell_type": "code",
   "execution_count": null,
   "id": "0a888d99",
   "metadata": {},
   "outputs": [],
   "source": []
  }
 ],
 "metadata": {
  "kernelspec": {
   "display_name": "Python 3",
   "language": "python",
   "name": "python3"
  },
  "language_info": {
   "codemirror_mode": {
    "name": "ipython",
    "version": 3
   },
   "file_extension": ".py",
   "mimetype": "text/x-python",
   "name": "python",
   "nbconvert_exporter": "python",
   "pygments_lexer": "ipython3",
   "version": "3.11.13"
  }
 },
 "nbformat": 4,
 "nbformat_minor": 5
}
