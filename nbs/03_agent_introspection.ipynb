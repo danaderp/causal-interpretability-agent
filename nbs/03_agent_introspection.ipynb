{
 "cells": [
  {
   "cell_type": "code",
   "execution_count": 2,
   "id": "e949ebe1",
   "metadata": {},
   "outputs": [],
   "source": [
    "from crewai import Agent, Task, Crew\n",
    "from crewai import LLM\n",
    "import os\n",
    "import json\n",
    "import re"
   ]
  },
  {
   "cell_type": "code",
   "execution_count": 6,
   "id": "a71553ce",
   "metadata": {},
   "outputs": [],
   "source": [
    "instrospection_template = json.load(open(\"input/1_software_introspection.json\"))\n",
    "causal_template = json.load(open(\"input/2_causal_interpretability.json\"))"
   ]
  },
  {
   "cell_type": "code",
   "execution_count": 3,
   "id": "65d99946",
   "metadata": {},
   "outputs": [],
   "source": [
    "\n",
    "llm = LLM(\n",
    "\n",
    "    #model = \"ollama/codellama:13b\", #13b\n",
    "    model = \"ollama/gpt-oss:latest\", #20b\n",
    "    #model = \"ollama/devstral:latest\", #24b\n",
    "    #model = \"ollama/mistral-small:latest\", #22b\n",
    "    base_url = \"http://localhost:11434\")"
   ]
  },
  {
   "cell_type": "markdown",
   "id": "67e19301",
   "metadata": {},
   "source": [
    "## Scenario A: Code generation text2code task"
   ]
  },
  {
   "cell_type": "code",
   "execution_count": 7,
   "id": "ce1aab99",
   "metadata": {},
   "outputs": [],
   "source": [
    "messages_a = instrospection_template['scenario_a']['step1']['messages']"
   ]
  },
  {
   "cell_type": "code",
   "execution_count": 8,
   "id": "f02ffb3a",
   "metadata": {},
   "outputs": [
    {
     "data": {
      "text/plain": [
       "[{'role': 'system',\n",
       "  'content': 'You are an experienced software engineer. Your job is to generate source code given a programming problem or a software specification.'},\n",
       " {'role': 'user',\n",
       "  'content': '[SOFTWARE TASK] Generate a python method that receives two vectors as parameters and return the cross product. Generate only the code of the function without any examples or tests.'},\n",
       " {'role': 'user',\n",
       "  'content': '[INTROSPECTION TASK] What are the main factors or variables that you believe influence the decision of generating the {FUNCTION} function? Estimate an attribution weight to each variable. Label the variables in alphabetical order. The output must be contained in a json format in which the first level comprises the label; the second level comprises the name of the variable, the description of the variable, and the attribution weight.'}]"
      ]
     },
     "execution_count": 8,
     "metadata": {},
     "output_type": "execute_result"
    }
   ],
   "source": [
    "messages_a"
   ]
  },
  {
   "cell_type": "code",
   "execution_count": 9,
   "id": "a94ac9c6",
   "metadata": {},
   "outputs": [],
   "source": [
    "def extract_function_name(response):\n",
    "    match = re.search(r\"def\\s+(\\w+)\\s*\\(\", response)\n",
    "    if match:\n",
    "        return match.group(1)\n",
    "    return None"
   ]
  },
  {
   "cell_type": "code",
   "execution_count": 28,
   "id": "ffcaeb76",
   "metadata": {},
   "outputs": [],
   "source": [
    "def process_messages(message,function, factors_json, node, unit_test, summary):\n",
    "    #new_message= re.sub(r\"\\[.*?\\]\",\"\", message['content'])\n",
    "    new_message= message['content']\n",
    "    if function:\n",
    "        new_message = re.sub(r\"\\{FUNCTION\\}\",function, new_message)\n",
    "    if factors_json:\n",
    "        new_message = re.sub(r\"\\{FACTORS\\}\",factors_json, new_message)\n",
    "    if re.search(r\"\\{NODE\\}\", new_message):\n",
    "        new_message = re.sub(r\"\\{NODE\\}\",node, new_message)\n",
    "    if unit_test:\n",
    "        new_message = re.sub(r\"\\{UNIT_TEST\\}\",unit_test, new_message)\n",
    "    if summary:\n",
    "        new_message = re.sub(r\"\\{SUMMARY\\}\",summary, new_message)\n",
    "    return new_message"
   ]
  },
  {
   "cell_type": "code",
   "execution_count": 11,
   "id": "46e31259",
   "metadata": {},
   "outputs": [],
   "source": [
    "def find_name(obj):\n",
    "    if isinstance(obj, dict):\n",
    "        for k, v in obj.items():\n",
    "            if k == \"name\":\n",
    "                yield v\n",
    "            else:\n",
    "                yield from find_name(v)\n",
    "    elif isinstance(obj, list):\n",
    "        for item in obj:\n",
    "            yield from find_name(item)"
   ]
  },
  {
   "cell_type": "code",
   "execution_count": 12,
   "id": "2f556efc",
   "metadata": {},
   "outputs": [],
   "source": [
    "def process_intraspection_factors_step_1(introspection_chat_history):\n",
    "    factors = []\n",
    "    script, function_name, factors, factors_message = None, None, None, None\n",
    "    if len(introspection_chat_history) == 4:\n",
    "        chat = introspection_chat_history[3]['content']\n",
    "        function_name = extract_function_name(chat)\n",
    "        match = re.search(r\"```(?:python)?(.*?)```\", chat, re.DOTALL)\n",
    "        script = match.group(1).strip() if match else None\n",
    "   \n",
    "    if len(introspection_chat_history) == 6:\n",
    "        factors_message = introspection_chat_history[5]['content']\n",
    "        cleaned = re.sub(r\"^```json\\s*|\\s*```$\", \"\", factors_message.strip(), flags=re.MULTILINE)\n",
    "\n",
    "        data = json.loads(cleaned)\n",
    "        factors=list(find_name(data))\n",
    "    return script, function_name, factors, factors_message\n",
    "   "
   ]
  },
  {
   "cell_type": "code",
   "execution_count": 14,
   "id": "55dca6a3",
   "metadata": {},
   "outputs": [
    {
     "name": "stdout",
     "output_type": "stream",
     "text": [
      "You are an experienced software engineer. Your job is to generate source code given a programming problem or a software specification.\n",
      "Sure! Whenever you’re ready, just give me the problem or specification you’d like me to tackle, and I’ll dive straight into writing the code.\n",
      "[SOFTWARE TASK] Generate a python method that receives two vectors as parameters and return the cross product. Generate only the code of the function without any examples or tests.\n",
      "```python\n",
      "from typing import Sequence, List\n",
      "\n",
      "def cross_product(a: Sequence[float], b: Sequence[float]) -> List[float]:\n",
      "    \"\"\"\n",
      "    Compute the cross product of two 3‑D vectors.\n",
      "\n",
      "    Parameters\n",
      "    ----------\n",
      "    a, b : Sequence[float]\n",
      "        Input vectors of length 3.\n",
      "\n",
      "    Returns\n",
      "    -------\n",
      "    List[float]\n",
      "        The cross product vector.\n",
      "    \"\"\"\n",
      "    if len(a) != 3 or len(b) != 3:\n",
      "        raise ValueError(\"Both vectors must be of length 3.\")\n",
      "\n",
      "    a1, a2, a3 = a\n",
      "    b1, b2, b3 = b\n",
      "\n",
      "    return [\n",
      "        a2 * b3 - a3 * b2,\n",
      "        a3 * b1 - a1 * b3,\n",
      "        a1 * b2 - a2 * b1,\n",
      "    ]\n",
      "```\n",
      "[INTROSPECTION TASK] What are the main factors or variables that you believe influence the decision of generating the from typing import Sequence, List\n",
      "\n",
      "def cross_product(a: Sequence[float], b: Sequence[float]) -> List[float]:\n",
      "    \"\"\"\n",
      "    Compute the cross product of two 3‑D vectors.\n",
      "\n",
      "    Parameters\n",
      "    ----------\n",
      "    a, b : Sequence[float]\n",
      "        Input vectors of length 3.\n",
      "\n",
      "    Returns\n",
      "    -------\n",
      "    List[float]\n",
      "        The cross product vector.\n",
      "    \"\"\"\n",
      "    if len(a) != 3 or len(b) != 3:\n",
      "        raise ValueError(\"Both vectors must be of length 3.\")\n",
      "\n",
      "    a1, a2, a3 = a\n",
      "    b1, b2, b3 = b\n",
      "\n",
      "    return [\n",
      "        a2 * b3 - a3 * b2,\n",
      "        a3 * b1 - a1 * b3,\n",
      "        a1 * b2 - a2 * b1,\n",
      "    ] function? Estimate an attribution weight to each variable. Label the variables in alphabetical order. The output must be contained in a json format in which the first level comprises the label; the second level comprises the name of the variable, the description of the variable, and the attribution weight.\n",
      "```json\n",
      "{\n",
      "  \"A\": {\n",
      "    \"name\": \"Type hint usage\",\n",
      "    \"description\": \"Adding explicit type hints (Sequence[float], List[float]) clarifies expected inputs and outputs, improving static analysis and developer experience.\",\n",
      "    \"attribution_weight\": 0.20\n",
      "  },\n",
      "  \"B\": {\n",
      "    \"name\": \"Input validation\",\n",
      "    \"description\": \"Checking that both vectors have exactly three elements ensures the function behaves correctly and prevents subtle bugs.\",\n",
      "    \"attribution_weight\": 0.20\n",
      "  },\n",
      "  \"C\": {\n",
      "    \"name\": \"Error handling\",\n",
      "    \"description\": \"Raising a ValueError with a clear message helps callers quickly identify misuse of the API.\",\n",
      "    \"attribution_weight\": 0.15\n",
      "  },\n",
      "  \"D\": {\n",
      "    \"name\": \"Documentation string\",\n",
      "    \"description\": \"A comprehensive docstring (including parameters, returns, and examples) aids readability, IDE assistance, and future maintenance.\",\n",
      "    \"attribution_weight\": 0.15\n",
      "  },\n",
      "  \"E\": {\n",
      "    \"name\": \"Function name\",\n",
      "    \"description\": \"Choosing a concise, descriptive name (cross_product) makes the intent immediately obvious.\",\n",
      "    \"attribution_weight\": 0.10\n",
      "  },\n",
      "  \"F\": {\n",
      "    \"name\": \"Return type\",\n",
      "    \"description\": \"Returning a concrete List[float] rather than a generic Sequence improves usability for callers expecting a mutable sequence.\",\n",
      "    \"attribution_weight\": 0.10\n",
      "  },\n",
      "  \"G\": {\n",
      "    \"name\": \"Code readability\",\n",
      "    \"description\": \"Using clear variable names (a1, a2, a3, etc.) and straightforward arithmetic enhances understandability and maintainability.\",\n",
      "    \"attribution_weight\": 0.10\n",
      "  }\n",
      "}\n",
      "```\n"
     ]
    }
   ],
   "source": [
    "chat_history = []\n",
    "last_response = ''\n",
    "messagges = messages_a.copy()\n",
    "for message in messagges:\n",
    "    function_script, function_name, nodes, factors_json = process_intraspection_factors_step_1(chat_history)\n",
    "    message['content'] = process_messages(message, function_script, factors_json, None, None)\n",
    "    print(message['content'])\n",
    "    chat_history.append(message)\n",
    "    last_response = llm.call(messages=chat_history)\n",
    "    #print({'role':'assistant','content':last_response})\n",
    "    print(last_response)\n",
    "    chat_history.append({\"role\": \"assistant\", \"content\": last_response})"
   ]
  },
  {
   "cell_type": "code",
   "execution_count": 15,
   "id": "ceeea14a",
   "metadata": {},
   "outputs": [
    {
     "name": "stdout",
     "output_type": "stream",
     "text": [
      "This cell run number is: 15\n"
     ]
    }
   ],
   "source": [
    "from IPython import get_ipython\n",
    "\n",
    "# Get the current execution count\n",
    "exec_count = get_ipython().execution_count\n",
    "print(\"This cell run number is:\", exec_count)"
   ]
  },
  {
   "cell_type": "code",
   "execution_count": 16,
   "id": "8ae142af",
   "metadata": {},
   "outputs": [],
   "source": [
    "output = {'scenario_a': {'step1': {'messages': chat_history}}}\n",
    "file = \"output/introspection/\"+ llm.model.replace(\"/\",\"_\")+\"_step1_\"+ str(exec_count) +\".json\"\n",
    "with open(file, \"w\") as f:\n",
    "    json.dump(output, f, indent=4)  "
   ]
  },
  {
   "cell_type": "markdown",
   "id": "09c0dab7",
   "metadata": {},
   "source": [
    "'role': 'system', 'content': 'You are an experienced software engineer. Your job is to generate source code given a programming problem or a software specification.'}\n",
    "{'role': 'assistant', 'content': \"\\nAs an AI language model, I can assist you in generating source code based on the input provided. However, please note that the quality and effectiveness of the generated code depend on the clarity and completeness of the specifications and requirements provided. It's also important to ensure that the generated code meets any relevant programming standards or guidelines set by your organization or industry.\"}\n",
    "{'role': 'user', 'content': ' Generate a python method that receives two vectors as parameters and return the cross product.'}\n",
    "{'role': 'assistant', 'content': '```python\\ndef cross_product(v1, v2):\\n    # Calculate the cross product of the two vectors\\n    cross = np.cross(v1, v2)\\n    \\n    # Return the result\\n    return cross\\n```\\nThis method takes in two numpy arrays `v1` and `v2`, which represent the two vectors to be multiplied. The `np.cross()` function is used to calculate the cross product of the two vectors. The resulting vector is then returned as a numpy array.\\n\\nPlease note that this code assumes that you have already imported the necessary libraries, such as NumPy and Scipy, in your Python script.'}\n",
    "{'role': 'user', 'content': ' What are the main factors or variables that you believe influence the decision of generating the cross_product function? Estimate an attribution weight to each variable. Label the variables in alphabetical order. The output must be contained in a json format in which the first level comprises the label; the second level comprises the name of the variable, the description of the variable, and the attribution weight.'}\n",
    "{'role': 'assistant', 'content': ' \n",
    "```json[\\n  {\\n    \"label\": \"attribution weights\",\\n    \"variables\": [\\n      {\\n        \"name\": \"code quality\",\\n        \"description\": \"The quality of the generated code will have a significant impact on its effectiveness and maintainability.\",\\n        \"weight\": \"0.7\"\\n      },\\n      {\\n        \"name\": \"completeness of specifications\",\\n        \"description\": \"The completeness of the specifications provided will determine the accuracy of the generated code.\",\\n        \"weight\": \"0.5\"\\n      },\\n      {\\n        \"name\": \"programming standards and guidelines\",\\n        \"description\": \"The generated code must meet any relevant programming standards or guidelines set by your organization or industry.\",\\n        \"weight\": \"0.3\"\\n      }\\n    ]\\n  }\\n]\\n```'}"
   ]
  },
  {
   "cell_type": "code",
   "execution_count": 17,
   "id": "7dbb1149",
   "metadata": {},
   "outputs": [
    {
     "data": {
      "text/plain": [
       "[{'role': 'system',\n",
       "  'content': 'You are an experienced software engineer. Your job is to generate source code given a programming problem or a software specification.'},\n",
       " {'role': 'assistant',\n",
       "  'content': 'Sure! Whenever you’re ready, just give me the problem or specification you’d like me to tackle, and I’ll dive straight into writing the code.'},\n",
       " {'role': 'user',\n",
       "  'content': '[SOFTWARE TASK] Generate a python method that receives two vectors as parameters and return the cross product. Generate only the code of the function without any examples or tests.'},\n",
       " {'role': 'assistant',\n",
       "  'content': '```python\\nfrom typing import Sequence, List\\n\\ndef cross_product(a: Sequence[float], b: Sequence[float]) -> List[float]:\\n    \"\"\"\\n    Compute the cross product of two 3‑D vectors.\\n\\n    Parameters\\n    ----------\\n    a, b : Sequence[float]\\n        Input vectors of length 3.\\n\\n    Returns\\n    -------\\n    List[float]\\n        The cross product vector.\\n    \"\"\"\\n    if len(a) != 3 or len(b) != 3:\\n        raise ValueError(\"Both vectors must be of length 3.\")\\n\\n    a1, a2, a3 = a\\n    b1, b2, b3 = b\\n\\n    return [\\n        a2 * b3 - a3 * b2,\\n        a3 * b1 - a1 * b3,\\n        a1 * b2 - a2 * b1,\\n    ]\\n```'},\n",
       " {'role': 'user',\n",
       "  'content': '[INTROSPECTION TASK] What are the main factors or variables that you believe influence the decision of generating the from typing import Sequence, List\\n\\ndef cross_product(a: Sequence[float], b: Sequence[float]) -> List[float]:\\n    \"\"\"\\n    Compute the cross product of two 3‑D vectors.\\n\\n    Parameters\\n    ----------\\n    a, b : Sequence[float]\\n        Input vectors of length 3.\\n\\n    Returns\\n    -------\\n    List[float]\\n        The cross product vector.\\n    \"\"\"\\n    if len(a) != 3 or len(b) != 3:\\n        raise ValueError(\"Both vectors must be of length 3.\")\\n\\n    a1, a2, a3 = a\\n    b1, b2, b3 = b\\n\\n    return [\\n        a2 * b3 - a3 * b2,\\n        a3 * b1 - a1 * b3,\\n        a1 * b2 - a2 * b1,\\n    ] function? Estimate an attribution weight to each variable. Label the variables in alphabetical order. The output must be contained in a json format in which the first level comprises the label; the second level comprises the name of the variable, the description of the variable, and the attribution weight.'},\n",
       " {'role': 'assistant',\n",
       "  'content': '```json\\n{\\n  \"A\": {\\n    \"name\": \"Type hint usage\",\\n    \"description\": \"Adding explicit type hints (Sequence[float], List[float]) clarifies expected inputs and outputs, improving static analysis and developer experience.\",\\n    \"attribution_weight\": 0.20\\n  },\\n  \"B\": {\\n    \"name\": \"Input validation\",\\n    \"description\": \"Checking that both vectors have exactly three elements ensures the function behaves correctly and prevents subtle bugs.\",\\n    \"attribution_weight\": 0.20\\n  },\\n  \"C\": {\\n    \"name\": \"Error handling\",\\n    \"description\": \"Raising a ValueError with a clear message helps callers quickly identify misuse of the API.\",\\n    \"attribution_weight\": 0.15\\n  },\\n  \"D\": {\\n    \"name\": \"Documentation string\",\\n    \"description\": \"A comprehensive docstring (including parameters, returns, and examples) aids readability, IDE assistance, and future maintenance.\",\\n    \"attribution_weight\": 0.15\\n  },\\n  \"E\": {\\n    \"name\": \"Function name\",\\n    \"description\": \"Choosing a concise, descriptive name (cross_product) makes the intent immediately obvious.\",\\n    \"attribution_weight\": 0.10\\n  },\\n  \"F\": {\\n    \"name\": \"Return type\",\\n    \"description\": \"Returning a concrete List[float] rather than a generic Sequence improves usability for callers expecting a mutable sequence.\",\\n    \"attribution_weight\": 0.10\\n  },\\n  \"G\": {\\n    \"name\": \"Code readability\",\\n    \"description\": \"Using clear variable names (a1, a2, a3, etc.) and straightforward arithmetic enhances understandability and maintainability.\",\\n    \"attribution_weight\": 0.10\\n  }\\n}\\n```'}]"
      ]
     },
     "execution_count": 17,
     "metadata": {},
     "output_type": "execute_result"
    }
   ],
   "source": [
    "chat_history\n"
   ]
  },
  {
   "cell_type": "code",
   "execution_count": 18,
   "id": "94ca2128",
   "metadata": {},
   "outputs": [
    {
     "data": {
      "text/plain": [
       "[{'role': 'system',\n",
       "  'content': 'You are an experienced software engineer. Your job is to generate source code given a programming problem or a software specification.'},\n",
       " {'role': 'user',\n",
       "  'content': '[SOFTWARE TASK] Generate a python method that receives two vectors as parameters and return the cross product. Generate only the code of the function without any examples or tests.'},\n",
       " {'role': 'user',\n",
       "  'content': '[INTROSPECTION TASK] What are the main factors or variables that you believe influence the decision of generating the from typing import Sequence, List\\n\\ndef cross_product(a: Sequence[float], b: Sequence[float]) -> List[float]:\\n    \"\"\"\\n    Compute the cross product of two 3‑D vectors.\\n\\n    Parameters\\n    ----------\\n    a, b : Sequence[float]\\n        Input vectors of length 3.\\n\\n    Returns\\n    -------\\n    List[float]\\n        The cross product vector.\\n    \"\"\"\\n    if len(a) != 3 or len(b) != 3:\\n        raise ValueError(\"Both vectors must be of length 3.\")\\n\\n    a1, a2, a3 = a\\n    b1, b2, b3 = b\\n\\n    return [\\n        a2 * b3 - a3 * b2,\\n        a3 * b1 - a1 * b3,\\n        a1 * b2 - a2 * b1,\\n    ] function? Estimate an attribution weight to each variable. Label the variables in alphabetical order. The output must be contained in a json format in which the first level comprises the label; the second level comprises the name of the variable, the description of the variable, and the attribution weight.'}]"
      ]
     },
     "execution_count": 18,
     "metadata": {},
     "output_type": "execute_result"
    }
   ],
   "source": [
    "messages_a"
   ]
  },
  {
   "cell_type": "markdown",
   "id": "90104754",
   "metadata": {},
   "source": [
    "## Step2: Code generation text2code task with interpretability "
   ]
  },
  {
   "cell_type": "code",
   "execution_count": 19,
   "id": "0a888d99",
   "metadata": {},
   "outputs": [],
   "source": [
    "messages_2 = instrospection_template['scenario_a']['step2']['messages']"
   ]
  },
  {
   "cell_type": "code",
   "execution_count": 20,
   "id": "0d122c12",
   "metadata": {},
   "outputs": [
    {
     "data": {
      "text/plain": [
       "[{'role': 'system',\n",
       "  'content': 'You are an experienced software tester. Your job is to generate unit test cases given a focal method.'},\n",
       " {'role': 'user',\n",
       "  'content': '[SOFTWARE TASK] Generate a python unit test case for the following focal method {FUNCTION}. Do not include any additional text, only the code of the unit test.'},\n",
       " {'role': 'user',\n",
       "  'content': '[INTROSPECTION TASK] What are the main factors or variables that you believe influence the decision of generating the {UNIT_TEST} test? Estimate an attribution weight to each variable. Label the variables in alphabetical order. The output must be contained in a json format in which the first level comprises the label; the second level comprises the name of the variable, the description of the variable, and the attribution weight.'}]"
      ]
     },
     "execution_count": 20,
     "metadata": {},
     "output_type": "execute_result"
    }
   ],
   "source": [
    "messages_2"
   ]
  },
  {
   "cell_type": "code",
   "execution_count": 21,
   "id": "3d565596",
   "metadata": {},
   "outputs": [
    {
     "name": "stdout",
     "output_type": "stream",
     "text": [
      "from typing import Sequence, List\n",
      "\n",
      "def cross_product(a: Sequence[float], b: Sequence[float]) -> List[float]:\n",
      "    \"\"\"\n",
      "    Compute the cross product of two 3‑D vectors.\n",
      "\n",
      "    Parameters\n",
      "    ----------\n",
      "    a, b : Sequence[float]\n",
      "        Input vectors of length 3.\n",
      "\n",
      "    Returns\n",
      "    -------\n",
      "    List[float]\n",
      "        The cross product vector.\n",
      "    \"\"\"\n",
      "    if len(a) != 3 or len(b) != 3:\n",
      "        raise ValueError(\"Both vectors must be of length 3.\")\n",
      "\n",
      "    a1, a2, a3 = a\n",
      "    b1, b2, b3 = b\n",
      "\n",
      "    return [\n",
      "        a2 * b3 - a3 * b2,\n",
      "        a3 * b1 - a1 * b3,\n",
      "        a1 * b2 - a2 * b1,\n",
      "    ]\n"
     ]
    }
   ],
   "source": [
    "print(function_script)"
   ]
  },
  {
   "cell_type": "code",
   "execution_count": 22,
   "id": "0475f313",
   "metadata": {},
   "outputs": [],
   "source": [
    "def process_intraspection_factors_step_2(introspection_chat_history):\n",
    "    if len(introspection_chat_history) < 3:\n",
    "        return None, None\n",
    "    chat = introspection_chat_history[3]['content']\n",
    "    function_name = extract_function_name(chat)\n",
    "    match = re.search(r\"```(?:python)?(.*?)```\", chat, re.DOTALL)\n",
    "    function = match.group(1).strip() if match else None\n",
    "    return function_name, function\n",
    "\n",
    "\n",
    "#function_name, script = process_intraspection_factors_step_2(chat_history)"
   ]
  },
  {
   "cell_type": "code",
   "execution_count": 42,
   "id": "7324742a",
   "metadata": {},
   "outputs": [
    {
     "name": "stdout",
     "output_type": "stream",
     "text": [
      "You are an experienced software tester. Your job is to generate unit test cases given a focal method.\n",
      "Sure! Please share the focal method (including its signature, any related classes or interfaces, and a brief description of what it’s supposed to do). Once I have that, I can craft a comprehensive set of unit test cases for it.\n",
      "[SOFTWARE TASK] Generate a python unit test case for the following focal method from typing import Sequence, List\n",
      "\n",
      "def cross_product(a: Sequence[float], b: Sequence[float]) -> List[float]:\n",
      "    \"\"\"\n",
      "    Compute the cross product of two 3‑D vectors.\n",
      "\n",
      "    Parameters\n",
      "    ----------\n",
      "    a, b : Sequence[float]\n",
      "        Input vectors of length 3.\n",
      "\n",
      "    Returns\n",
      "    -------\n",
      "    List[float]\n",
      "        The cross product vector.\n",
      "    \"\"\"\n",
      "    if len(a) != 3 or len(b) != 3:\n",
      "        raise ValueError(\"Both vectors must be of length 3.\")\n",
      "\n",
      "    a1, a2, a3 = a\n",
      "    b1, b2, b3 = b\n",
      "\n",
      "    return [\n",
      "        a2 * b3 - a3 * b2,\n",
      "        a3 * b1 - a1 * b3,\n",
      "        a1 * b2 - a2 * b1,\n",
      "    ]. Do not include any additional text, only the code of the unit test.\n",
      "import unittest\n",
      "from typing import Sequence, List\n",
      "\n",
      "def cross_product(a: Sequence[float], b: Sequence[float]) -> List[float]:\n",
      "    \"\"\"\n",
      "    Compute the cross product of two 3‑D vectors.\n",
      "    \"\"\"\n",
      "    if len(a) != 3 or len(b) != 3:\n",
      "        raise ValueError(\"Both vectors must be of length 3.\")\n",
      "    a1, a2, a3 = a\n",
      "    b1, b2, b3 = b\n",
      "    return [\n",
      "        a2 * b3 - a3 * b2,\n",
      "        a3 * b1 - a1 * b3,\n",
      "        a1 * b2 - a2 * b1,\n",
      "    ]\n",
      "\n",
      "class TestCrossProduct(unittest.TestCase):\n",
      "    def test_basic_cross_product(self):\n",
      "        a = [1, 2, 3]\n",
      "        b = [4, 5, 6]\n",
      "        expected = [-3, 6, -3]\n",
      "        result = cross_product(a, b)\n",
      "        self.assertEqual(result, expected)\n",
      "\n",
      "    def test_cross_product_with_zero_vector(self):\n",
      "        a = [0, 0, 0]\n",
      "        b = [1, 2, 3]\n",
      "        expected = [0, 0, 0]\n",
      "        result = cross_product(a, b)\n",
      "        self.assertEqual(result, expected)\n",
      "\n",
      "    def test_cross_product_orthogonal_vectors(self):\n",
      "        a = [1, 0, 0]\n",
      "        b = [0, 1, 0]\n",
      "        expected = [0, 0, 1]\n",
      "        result = cross_product(a, b)\n",
      "        self.assertEqual(result, expected)\n",
      "\n",
      "    def test_cross_product_parallel_vectors(self):\n",
      "        a = [2, 4, 6]\n",
      "        b = [1, 2, 3]\n",
      "        expected = [0, 0, 0]\n",
      "        result = cross_product(a, b)\n",
      "        self.assertEqual(result, expected)\n",
      "\n",
      "    def test_cross_product_negative_vector(self):\n",
      "        a = [-1, 0, 0]\n",
      "        b = [0, 1, 0]\n",
      "        expected = [0, 0, -1]\n",
      "        result = cross_product(a, b)\n",
      "        self.assertEqual(result, expected)\n",
      "\n",
      "    def test_cross_product_return_type(self):\n",
      "        a = (1, 2, 3)\n",
      "        b = [4, 5, 6]\n",
      "        result = cross_product(a, b)\n",
      "        self.assertIsInstance(result, list)\n",
      "        self.assertEqual(len(result), 3)\n",
      "\n",
      "    def test_cross_product_invalid_length(self):\n",
      "        with self.assertRaises(ValueError):\n",
      "            cross_product([1, 2], [3, 4, 5])\n",
      "        with self.assertRaises(ValueError):\n",
      "            cross_product([1, 2, 3], [4, 5])\n",
      "        with self.assertRaises(ValueError):\n",
      "            cross_product([], [])\n",
      "\n",
      "    def test_cross_product_non_sequence_inputs(self):\n",
      "        with self.assertRaises(TypeError):\n",
      "            cross_product([1, 2, 3], None)\n",
      "        with self.assertRaises(TypeError):\n",
      "            cross_product(None, [1, 2, 3])\n",
      "\n",
      "if __name__ == \"__main__\":\n",
      "    unittest.main()\n",
      "[INTROSPECTION TASK] What are the main factors or variables that you believe influence the decision of generating the {UNIT_TEST} test? Estimate an attribution weight to each variable. Label the variables in alphabetical order. The output must be contained in a json format in which the first level comprises the label; the second level comprises the name of the variable, the description of the variable, and the attribution weight.\n",
      "{\n",
      "  \"A\": {\n",
      "    \"name\": \"Function Complexity\",\n",
      "    \"description\": \"The number of logical branches, nested conditions, and overall algorithmic complexity of the function.\",\n",
      "    \"weight\": 0.25\n",
      "  },\n",
      "  \"B\": {\n",
      "    \"name\": \"Input Validation\",\n",
      "    \"description\": \"Whether the function checks the validity of its inputs (e.g., length, type, value ranges).\",\n",
      "    \"weight\": 0.20\n",
      "  },\n",
      "  \"C\": {\n",
      "    \"name\": \"Error Handling\",\n",
      "    \"description\": \"The presence and robustness of error handling logic, such as raising exceptions for invalid cases.\",\n",
      "    \"weight\": 0.15\n",
      "  },\n",
      "  \"D\": {\n",
      "    \"name\": \"Dependencies\",\n",
      "    \"description\": \"External modules, services, or global state that the function relies on, influencing isolation in tests.\",\n",
      "    \"weight\": 0.10\n",
      "  },\n",
      "  \"E\": {\n",
      "    \"name\": \"Documentation/Contract\",\n",
      "    \"description\": \"Clarity of the function's docstring, parameter and return type contracts, and adherence to specifications.\",\n",
      "    \"weight\": 0.15\n",
      "  },\n",
      "  \"F\": {\n",
      "    \"name\": \"Edge Cases\",\n",
      "    \"description\": \"The likelihood of encountering unusual or boundary inputs that could reveal hidden bugs.\",\n",
      "    \"weight\": 0.15\n",
      "  }\n",
      "}\n"
     ]
    }
   ],
   "source": [
    "chat_history_2 = []\n",
    "last_response = ''\n",
    "messages = messages_2.copy()\n",
    "unit_test = None\n",
    "for message in messages:\n",
    "    test_name, unit_test = process_intraspection_factors_step_2(chat_history_2)\n",
    "    message['content'] = process_messages(message, function_script, None, None, unit_test, None)\n",
    "    print(message['content'])\n",
    "    chat_history_2.append(message)\n",
    "    last_response = llm.call(messages=chat_history_2)\n",
    "    #print({'role':'assistant','content':last_response})\n",
    "    print(last_response)\n",
    "    chat_history_2.append({\"role\": \"assistant\", \"content\": last_response})"
   ]
  },
  {
   "cell_type": "code",
   "execution_count": 43,
   "id": "bdb198cc",
   "metadata": {},
   "outputs": [
    {
     "data": {
      "text/plain": [
       "[{'role': 'system',\n",
       "  'content': 'You are an experienced software engineer. Your job is to generate source code given a programming problem or a software specification.'},\n",
       " {'role': 'assistant',\n",
       "  'content': 'Sure! Whenever you’re ready, just give me the problem or specification you’d like me to tackle, and I’ll dive straight into writing the code.'},\n",
       " {'role': 'user',\n",
       "  'content': '[SOFTWARE TASK] Generate a python method that receives two vectors as parameters and return the cross product. Generate only the code of the function without any examples or tests.'},\n",
       " {'role': 'assistant',\n",
       "  'content': '```python\\nfrom typing import Sequence, List\\n\\ndef cross_product(a: Sequence[float], b: Sequence[float]) -> List[float]:\\n    \"\"\"\\n    Compute the cross product of two 3‑D vectors.\\n\\n    Parameters\\n    ----------\\n    a, b : Sequence[float]\\n        Input vectors of length 3.\\n\\n    Returns\\n    -------\\n    List[float]\\n        The cross product vector.\\n    \"\"\"\\n    if len(a) != 3 or len(b) != 3:\\n        raise ValueError(\"Both vectors must be of length 3.\")\\n\\n    a1, a2, a3 = a\\n    b1, b2, b3 = b\\n\\n    return [\\n        a2 * b3 - a3 * b2,\\n        a3 * b1 - a1 * b3,\\n        a1 * b2 - a2 * b1,\\n    ]\\n```'},\n",
       " {'role': 'user',\n",
       "  'content': '[INTROSPECTION TASK] What are the main factors or variables that you believe influence the decision of generating the from typing import Sequence, List\\n\\ndef cross_product(a: Sequence[float], b: Sequence[float]) -> List[float]:\\n    \"\"\"\\n    Compute the cross product of two 3‑D vectors.\\n\\n    Parameters\\n    ----------\\n    a, b : Sequence[float]\\n        Input vectors of length 3.\\n\\n    Returns\\n    -------\\n    List[float]\\n        The cross product vector.\\n    \"\"\"\\n    if len(a) != 3 or len(b) != 3:\\n        raise ValueError(\"Both vectors must be of length 3.\")\\n\\n    a1, a2, a3 = a\\n    b1, b2, b3 = b\\n\\n    return [\\n        a2 * b3 - a3 * b2,\\n        a3 * b1 - a1 * b3,\\n        a1 * b2 - a2 * b1,\\n    ] function? Estimate an attribution weight to each variable. Label the variables in alphabetical order. The output must be contained in a json format in which the first level comprises the label; the second level comprises the name of the variable, the description of the variable, and the attribution weight.'},\n",
       " {'role': 'assistant',\n",
       "  'content': '```json\\n{\\n  \"A\": {\\n    \"name\": \"Type hint usage\",\\n    \"description\": \"Adding explicit type hints (Sequence[float], List[float]) clarifies expected inputs and outputs, improving static analysis and developer experience.\",\\n    \"attribution_weight\": 0.20\\n  },\\n  \"B\": {\\n    \"name\": \"Input validation\",\\n    \"description\": \"Checking that both vectors have exactly three elements ensures the function behaves correctly and prevents subtle bugs.\",\\n    \"attribution_weight\": 0.20\\n  },\\n  \"C\": {\\n    \"name\": \"Error handling\",\\n    \"description\": \"Raising a ValueError with a clear message helps callers quickly identify misuse of the API.\",\\n    \"attribution_weight\": 0.15\\n  },\\n  \"D\": {\\n    \"name\": \"Documentation string\",\\n    \"description\": \"A comprehensive docstring (including parameters, returns, and examples) aids readability, IDE assistance, and future maintenance.\",\\n    \"attribution_weight\": 0.15\\n  },\\n  \"E\": {\\n    \"name\": \"Function name\",\\n    \"description\": \"Choosing a concise, descriptive name (cross_product) makes the intent immediately obvious.\",\\n    \"attribution_weight\": 0.10\\n  },\\n  \"F\": {\\n    \"name\": \"Return type\",\\n    \"description\": \"Returning a concrete List[float] rather than a generic Sequence improves usability for callers expecting a mutable sequence.\",\\n    \"attribution_weight\": 0.10\\n  },\\n  \"G\": {\\n    \"name\": \"Code readability\",\\n    \"description\": \"Using clear variable names (a1, a2, a3, etc.) and straightforward arithmetic enhances understandability and maintainability.\",\\n    \"attribution_weight\": 0.10\\n  }\\n}\\n```'}]"
      ]
     },
     "execution_count": 43,
     "metadata": {},
     "output_type": "execute_result"
    }
   ],
   "source": [
    "chat_history"
   ]
  },
  {
   "cell_type": "code",
   "execution_count": 44,
   "id": "744c3a7a",
   "metadata": {},
   "outputs": [
    {
     "data": {
      "text/plain": [
       "[{'role': 'system',\n",
       "  'content': 'You are an experienced software tester. Your job is to generate unit test cases given a focal method.'},\n",
       " {'role': 'assistant',\n",
       "  'content': 'Sure! Please share the focal method (including its signature, any related classes or interfaces, and a brief description of what it’s supposed to do). Once I have that, I can craft a comprehensive set of unit test cases for it.'},\n",
       " {'role': 'user',\n",
       "  'content': '[SOFTWARE TASK] Generate a python unit test case for the following focal method from typing import Sequence, List\\n\\ndef cross_product(a: Sequence[float], b: Sequence[float]) -> List[float]:\\n    \"\"\"\\n    Compute the cross product of two 3‑D vectors.\\n\\n    Parameters\\n    ----------\\n    a, b : Sequence[float]\\n        Input vectors of length 3.\\n\\n    Returns\\n    -------\\n    List[float]\\n        The cross product vector.\\n    \"\"\"\\n    if len(a) != 3 or len(b) != 3:\\n        raise ValueError(\"Both vectors must be of length 3.\")\\n\\n    a1, a2, a3 = a\\n    b1, b2, b3 = b\\n\\n    return [\\n        a2 * b3 - a3 * b2,\\n        a3 * b1 - a1 * b3,\\n        a1 * b2 - a2 * b1,\\n    ]. Do not include any additional text, only the code of the unit test.'},\n",
       " {'role': 'assistant',\n",
       "  'content': 'import unittest\\nfrom typing import Sequence, List\\n\\ndef cross_product(a: Sequence[float], b: Sequence[float]) -> List[float]:\\n    \"\"\"\\n    Compute the cross product of two 3‑D vectors.\\n    \"\"\"\\n    if len(a) != 3 or len(b) != 3:\\n        raise ValueError(\"Both vectors must be of length 3.\")\\n    a1, a2, a3 = a\\n    b1, b2, b3 = b\\n    return [\\n        a2 * b3 - a3 * b2,\\n        a3 * b1 - a1 * b3,\\n        a1 * b2 - a2 * b1,\\n    ]\\n\\nclass TestCrossProduct(unittest.TestCase):\\n    def test_basic_cross_product(self):\\n        a = [1, 2, 3]\\n        b = [4, 5, 6]\\n        expected = [-3, 6, -3]\\n        result = cross_product(a, b)\\n        self.assertEqual(result, expected)\\n\\n    def test_cross_product_with_zero_vector(self):\\n        a = [0, 0, 0]\\n        b = [1, 2, 3]\\n        expected = [0, 0, 0]\\n        result = cross_product(a, b)\\n        self.assertEqual(result, expected)\\n\\n    def test_cross_product_orthogonal_vectors(self):\\n        a = [1, 0, 0]\\n        b = [0, 1, 0]\\n        expected = [0, 0, 1]\\n        result = cross_product(a, b)\\n        self.assertEqual(result, expected)\\n\\n    def test_cross_product_parallel_vectors(self):\\n        a = [2, 4, 6]\\n        b = [1, 2, 3]\\n        expected = [0, 0, 0]\\n        result = cross_product(a, b)\\n        self.assertEqual(result, expected)\\n\\n    def test_cross_product_negative_vector(self):\\n        a = [-1, 0, 0]\\n        b = [0, 1, 0]\\n        expected = [0, 0, -1]\\n        result = cross_product(a, b)\\n        self.assertEqual(result, expected)\\n\\n    def test_cross_product_return_type(self):\\n        a = (1, 2, 3)\\n        b = [4, 5, 6]\\n        result = cross_product(a, b)\\n        self.assertIsInstance(result, list)\\n        self.assertEqual(len(result), 3)\\n\\n    def test_cross_product_invalid_length(self):\\n        with self.assertRaises(ValueError):\\n            cross_product([1, 2], [3, 4, 5])\\n        with self.assertRaises(ValueError):\\n            cross_product([1, 2, 3], [4, 5])\\n        with self.assertRaises(ValueError):\\n            cross_product([], [])\\n\\n    def test_cross_product_non_sequence_inputs(self):\\n        with self.assertRaises(TypeError):\\n            cross_product([1, 2, 3], None)\\n        with self.assertRaises(TypeError):\\n            cross_product(None, [1, 2, 3])\\n\\nif __name__ == \"__main__\":\\n    unittest.main()'},\n",
       " {'role': 'user',\n",
       "  'content': '[INTROSPECTION TASK] What are the main factors or variables that you believe influence the decision of generating the {UNIT_TEST} test? Estimate an attribution weight to each variable. Label the variables in alphabetical order. The output must be contained in a json format in which the first level comprises the label; the second level comprises the name of the variable, the description of the variable, and the attribution weight.'},\n",
       " {'role': 'assistant',\n",
       "  'content': '{\\n  \"A\": {\\n    \"name\": \"Function Complexity\",\\n    \"description\": \"The number of logical branches, nested conditions, and overall algorithmic complexity of the function.\",\\n    \"weight\": 0.25\\n  },\\n  \"B\": {\\n    \"name\": \"Input Validation\",\\n    \"description\": \"Whether the function checks the validity of its inputs (e.g., length, type, value ranges).\",\\n    \"weight\": 0.20\\n  },\\n  \"C\": {\\n    \"name\": \"Error Handling\",\\n    \"description\": \"The presence and robustness of error handling logic, such as raising exceptions for invalid cases.\",\\n    \"weight\": 0.15\\n  },\\n  \"D\": {\\n    \"name\": \"Dependencies\",\\n    \"description\": \"External modules, services, or global state that the function relies on, influencing isolation in tests.\",\\n    \"weight\": 0.10\\n  },\\n  \"E\": {\\n    \"name\": \"Documentation/Contract\",\\n    \"description\": \"Clarity of the function\\'s docstring, parameter and return type contracts, and adherence to specifications.\",\\n    \"weight\": 0.15\\n  },\\n  \"F\": {\\n    \"name\": \"Edge Cases\",\\n    \"description\": \"The likelihood of encountering unusual or boundary inputs that could reveal hidden bugs.\",\\n    \"weight\": 0.15\\n  }\\n}'}]"
      ]
     },
     "execution_count": 44,
     "metadata": {},
     "output_type": "execute_result"
    }
   ],
   "source": [
    "chat_history_2"
   ]
  },
  {
   "cell_type": "code",
   "execution_count": 26,
   "id": "22ed686b",
   "metadata": {},
   "outputs": [],
   "source": [
    "output ={\n",
    "    'scenario_a': {\n",
    "        'step1': {'messages': chat_history},\n",
    "        'step2': {'messages': chat_history_2}\n",
    "    }\n",
    "}\n",
    "file = \"output/introspection/\"+ llm.model.replace(\"/\",\"_\")+\"_step1_step2_\"+ str(exec_count) +\".json\"\n",
    "with open(file, \"w\") as f:\n",
    "    json.dump(output, f, indent=4)  "
   ]
  },
  {
   "cell_type": "markdown",
   "id": "d1ae99e3",
   "metadata": {},
   "source": [
    "## Scenario A - step 3: Summarization of the code"
   ]
  },
  {
   "cell_type": "code",
   "execution_count": 27,
   "id": "7431dda7",
   "metadata": {},
   "outputs": [],
   "source": [
    "messages_3 = instrospection_template['scenario_a']['step3']['messages']"
   ]
  },
  {
   "cell_type": "code",
   "execution_count": 46,
   "id": "25971690",
   "metadata": {},
   "outputs": [],
   "source": [
    "def extract_summary(introspection_chat_history):\n",
    "    if len(introspection_chat_history) < 3:\n",
    "        return None\n",
    "    return introspection_chat_history[3]['content']\n",
    "   "
   ]
  },
  {
   "cell_type": "code",
   "execution_count": 47,
   "id": "4a27ef77",
   "metadata": {},
   "outputs": [
    {
     "name": "stdout",
     "output_type": "stream",
     "text": [
      "Summary: None\n",
      "You are an experienced software reviewer. Your job is to summarize python focal methods.\n",
      "## Quick‑look at Python’s “focal” methods  \n",
      "*(the most frequently used, most useful, and most idiomatic API points in the language and its standard library)*\n",
      "\n",
      "| Category | Typical Focal Methods / Magic Methods | What they do (short) | Why you’ll use them |\n",
      "|----------|--------------------------------------|----------------------|---------------------|\n",
      "| **Object model / OOP** | `__init__`<br>`__repr__`<br>`__str__`<br>`__len__`<br>`__iter__`<br>`__next__`<br>`__getitem__`<br>`__setitem__`<br>`__delitem__`<br>`__contains__`<br>`__add__`, `__sub__`, … | Constructor, debug‑string, user‑friendly string, container size, iterator protocol, element access, mutation, membership test, arithmetic | Build custom types that behave like built‑ins; enable “duck‑typing”; make objects printable & iterable. |\n",
      "| **Context managers** | `__enter__`<br>`__exit__` | Acquire/clean up resources with `with` | Safer resource handling (files, sockets, locks, etc.). |\n",
      "| **Properties** | `@property`<br>`@<prop>.setter`<br>`@<prop>.deleter` | Get‑/set‑/delete‑attribute logic | Encapsulate state, add validation or laziness. |\n",
      "| **Iteration helpers** | `enumerate()`<br>`zip()`<br>`itertools` sub‑module (e.g. `count`, `cycle`, `chain`) | Produce indices, pair elements, powerful iterator pipelines | Replace manual indices, simplify loops. |\n",
      "| **Sequence & collection helpers** | `list.append`, `list.extend`, `list.pop`, `list.remove`, `list.sort`, `list.reverse`<br>`dict.get`, `dict.keys`, `dict.values`, `dict.items`, `dict.update`, `dict.pop`<br>`set.add`, `set.discard`, `set.union`, `set.intersection`, `set.difference`<br>`str.strip`, `str.lower`, `str.upper`, `str.split`, `str.join`, `str.replace`, `str.format` | Mutating & querying containers & strings | CRUD on collections; string manipulation; quick formatting. |\n",
      "| **File & I/O** | `open()` → file object’s `read`, `write`, `close`, `readline`, `readlines`, `seek`, `tell` | File I/O primitives | Basic reading/writing text or binary data. |\n",
      "| **Utilities** | `len()`, `range()`, `sum()`, `min()`, `max()`, `any()`, `all()`, `print()`, `input()` | Built‑in helpers | Simple arithmetic/logic on sequences; console I/O. |\n",
      "| **Higher‑order functions** | `map()`, `filter()`, `reduce()` (from `functools`), `lambda` | Functional‑style processing | Concise transformations & aggregations. |\n",
      "| **Error handling** | `try/except`, `finally` | Exception capture/cleanup | Robust error handling. |\n",
      "| **Import system** | `import`, `from … import …`, `__import__()` | Bring names into scope | Code organization & dynamic imports. |\n",
      "| **Type introspection** | `isinstance()`, `issubclass()`, `type()`, `dir()`, `vars()`, `getattr()`, `setattr()`, `hasattr()`, `__dict__` | Inspect and manipulate types/objects | Runtime checks, reflection, dynamic attribute access. |\n",
      "| **Testing & debugging** | `assert`, `logging`, `traceback`, `pdb` | Assertions, logs, stack traces, debugger | Validate assumptions, log runtime info. |\n",
      "\n",
      "---\n",
      "\n",
      "### How to read this table\n",
      "\n",
      "* **Magic methods** (`__init__`, `__repr__`, …) are *focal* because they define the core interface of a class.  \n",
      "* The *built‑in* helpers (`len`, `range`, etc.) are the low‑level “glue” you’ll use in almost every script.  \n",
      "* Collection methods (`list.append`, `dict.get`, `set.add`, …) are the CRUD operations that make data structures usable.  \n",
      "* Context managers (`with` + `__enter__`/`__exit__`) are the idiomatic way to handle resources.  \n",
      "* The higher‑order functions give you concise, functional‑style code that often replaces explicit loops.\n",
      "\n",
      "---\n",
      "\n",
      "### Quick‑start checklist\n",
      "\n",
      "1. **Define classes** → implement `__init__`, `__repr__`, `__str__`, and at least one `__iter__` if you want iteration.  \n",
      "2. **Use context managers** → write a `__enter__`/`__exit__` pair or use the built‑in `with open(...)`.  \n",
      "3. **Manipulate collections** → pick the right method (`append` vs `extend`, `get` vs `[]`, `add` vs `update`).  \n",
      "4. **Iterate** → prefer `for x in iterable` or `enumerate(iterable)` over manual indices.  \n",
      "5. **Handle errors** → wrap risky code in `try/except`, use `finally` for cleanup.  \n",
      "6. **Test** → sprinkle `assert` and/or use a testing framework; log critical events.\n",
      "\n",
      "---\n",
      "\n",
      "### TL;DR\n",
      "\n",
      "In Python, the *focal* methods are those that **give your objects the same behaviors as built‑ins** (magic methods), **allow safe resource handling** (`with`), **offer collection manipulation** (`list`, `dict`, `set`, `str`), and **enable functional and introspective programming** (`map`, `filter`, `isinstance`, `getattr`). Mastering these will let you write clear, idiomatic, and maintainable Python code.\n",
      "Summary: None\n",
      "[SOFTWARE TASK] Generate a paragraph summarizing and describing, in natural language, the following focal method from typing import Sequence, List\n",
      "\n",
      "def cross_product(a: Sequence[float], b: Sequence[float]) -> List[float]:\n",
      "    \"\"\"\n",
      "    Compute the cross product of two 3‑D vectors.\n",
      "\n",
      "    Parameters\n",
      "    ----------\n",
      "    a, b : Sequence[float]\n",
      "        Input vectors of length 3.\n",
      "\n",
      "    Returns\n",
      "    -------\n",
      "    List[float]\n",
      "        The cross product vector.\n",
      "    \"\"\"\n",
      "    if len(a) != 3 or len(b) != 3:\n",
      "        raise ValueError(\"Both vectors must be of length 3.\")\n",
      "\n",
      "    a1, a2, a3 = a\n",
      "    b1, b2, b3 = b\n",
      "\n",
      "    return [\n",
      "        a2 * b3 - a3 * b2,\n",
      "        a3 * b1 - a1 * b3,\n",
      "        a1 * b2 - a2 * b1,\n",
      "    ]\n",
      "The `cross_product` function is a concise utility for calculating the three‑dimensional vector cross product. It accepts two input sequences (`a` and `b`) that must each contain exactly three numeric values; if either vector is not of length three, the function immediately raises a `ValueError` to prevent invalid calculations. The implementation destructures each input into its three components (e.g., `a1, a2, a3`) and then applies the standard cross‑product formula: the first component is `a2 * b3 - a3 * b2`, the second is `a3 * b1 - a1 * b3`, and the third is `a1 * b2 - a2 * b1`. The result is returned as a new `List[float]`, preserving the order of the resulting vector’s components. This function is useful whenever vector arithmetic is required, such as in physics simulations, computer graphics, or engineering computations.\n",
      "Summary: The `cross_product` function is a concise utility for calculating the three‑dimensional vector cross product. It accepts two input sequences (`a` and `b`) that must each contain exactly three numeric values; if either vector is not of length three, the function immediately raises a `ValueError` to prevent invalid calculations. The implementation destructures each input into its three components (e.g., `a1, a2, a3`) and then applies the standard cross‑product formula: the first component is `a2 * b3 - a3 * b2`, the second is `a3 * b1 - a1 * b3`, and the third is `a1 * b2 - a2 * b1`. The result is returned as a new `List[float]`, preserving the order of the resulting vector’s components. This function is useful whenever vector arithmetic is required, such as in physics simulations, computer graphics, or engineering computations.\n",
      "[INTROSPECTION TASK] What are the main factors or variables that you believe influence the decision of generating the code summary The `cross_product` function is a concise utility for calculating the three‑dimensional vector cross product. It accepts two input sequences (`a` and `b`) that must each contain exactly three numeric values; if either vector is not of length three, the function immediately raises a `ValueError` to prevent invalid calculations. The implementation destructures each input into its three components (e.g., `a1, a2, a3`) and then applies the standard cross‑product formula: the first component is `a2 * b3 - a3 * b2`, the second is `a3 * b1 - a1 * b3`, and the third is `a1 * b2 - a2 * b1`. The result is returned as a new `List[float]`, preserving the order of the resulting vector’s components. This function is useful whenever vector arithmetic is required, such as in physics simulations, computer graphics, or engineering computations.? Estimate an attribution weight to each variable. Label the variables in alphabetical order. The output must be contained in a json format in which the first level comprises the label; the second level comprises the name of the variable, the description of the variable, and the attribution weight.\n",
      "```json\n",
      "{\n",
      "  \"A\": {\n",
      "    \"name\": \"Code Length\",\n",
      "    \"description\": \"The number of lines or overall size of the implementation; shorter code tends to be more amenable to a concise summary.\",\n",
      "    \"weight\": 0.15\n",
      "  },\n",
      "  \"B\": {\n",
      "    \"name\": \"Type Annotations\",\n",
      "    \"description\": \"Presence of explicit typing hints (e.g., Sequence[float], List[float]) that clarify input and output contracts.\",\n",
      "    \"weight\": 0.10\n",
      "  },\n",
      "  \"C\": {\n",
      "    \"name\": \"Error Handling\",\n",
      "    \"description\": \"Inclusion of validation logic (such as length checks and ValueError raises) indicating robustness and edge‑case awareness.\",\n",
      "    \"weight\": 0.10\n",
      "  },\n",
      "  \"D\": {\n",
      "    \"name\": \"Documentation Quality\",\n",
      "    \"description\": \"The richness of the docstring—parameters, return description, and explanatory context—guiding the summarizer’s content focus.\",\n",
      "    \"weight\": 0.25\n",
      "  },\n",
      "  \"E\": {\n",
      "    \"name\": \"Domain Relevance\",\n",
      "    \"description\": \"The function’s applicability to common fields (physics, graphics, engineering) which motivates a more thorough explanation.\",\n",
      "    \"weight\": 0.20\n",
      "  },\n",
      "  \"F\": {\n",
      "    \"name\": \"Readability\",\n",
      "    \"description\": \"Clarity of variable names and overall style, influencing how easily a human can comprehend and summarize the code.\",\n",
      "    \"weight\": 0.10\n",
      "  },\n",
      "  \"G\": {\n",
      "    \"name\": \"Function Complexity\",\n",
      "    \"description\": \"Algorithmic complexity (e.g., O(1) for cross‑product) affecting how many details are highlighted in the summary.\",\n",
      "    \"weight\": 0.10\n",
      "  }\n",
      "}\n",
      "```\n"
     ]
    }
   ],
   "source": [
    "chat_history_3 = []\n",
    "last_response = ''\n",
    "messages = messages_3.copy()\n",
    "for message in messages:\n",
    "    summary = extract_summary(chat_history_3)\n",
    "    print(\"Summary:\", summary)\n",
    "    message['content'] = process_messages(message, unit_test, None, None, None, summary)\n",
    "    print(message['content'])\n",
    "    chat_history_3.append(message)\n",
    "    last_response = llm.call(messages=chat_history_3)\n",
    "    #print({'role':'assistant','content':last_response})\n",
    "    print(last_response)\n",
    "    chat_history_3.append({\"role\": \"assistant\", \"content\": last_response})"
   ]
  },
  {
   "cell_type": "code",
   "execution_count": 48,
   "id": "5b52c793",
   "metadata": {},
   "outputs": [],
   "source": [
    "output ={\n",
    "    'scenario_a': {\n",
    "        'step1': {'messages': chat_history},\n",
    "        'step2': {'messages': chat_history_2},\n",
    "        'step3': {'messages': chat_history_3}\n",
    "    }\n",
    "}\n",
    "file = \"output/introspection/\"+ llm.model.replace(\"/\",\"_\")+\"_step1_step2_sptep3_\"+ str(exec_count) +\".json\"\n",
    "with open(file, \"w\") as f:\n",
    "    json.dump(output, f, indent=4)  "
   ]
  },
  {
   "cell_type": "code",
   "execution_count": null,
   "id": "f382becd",
   "metadata": {},
   "outputs": [],
   "source": []
  }
 ],
 "metadata": {
  "kernelspec": {
   "display_name": "Python 3",
   "language": "python",
   "name": "python3"
  },
  "language_info": {
   "codemirror_mode": {
    "name": "ipython",
    "version": 3
   },
   "file_extension": ".py",
   "mimetype": "text/x-python",
   "name": "python",
   "nbconvert_exporter": "python",
   "pygments_lexer": "ipython3",
   "version": "3.11.13"
  }
 },
 "nbformat": 4,
 "nbformat_minor": 5
}
