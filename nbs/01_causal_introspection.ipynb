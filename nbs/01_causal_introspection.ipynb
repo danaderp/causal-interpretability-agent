{
 "cells": [
  {
   "cell_type": "code",
   "execution_count": 1,
   "id": "ca805892",
   "metadata": {},
   "outputs": [
    {
     "name": "stderr",
     "output_type": "stream",
     "text": [
      "/home/davidnad/repos/causal-interpretability-agent/.venv/lib/python3.12/site-packages/tqdm/auto.py:21: TqdmWarning: IProgress not found. Please update jupyter and ipywidgets. See https://ipywidgets.readthedocs.io/en/stable/user_install.html\n",
      "  from .autonotebook import tqdm as notebook_tqdm\n"
     ]
    }
   ],
   "source": [
    "from datasets import load_dataset"
   ]
  },
  {
   "cell_type": "code",
   "execution_count": 2,
   "id": "13fe8e58",
   "metadata": {},
   "outputs": [
    {
     "name": "stderr",
     "output_type": "stream",
     "text": [
      "Generating train split: 100%|██████████| 2924/2924 [00:00<00:00, 10657.75 examples/s]\n"
     ]
    }
   ],
   "source": [
    "ds = load_dataset(\"semeru/code-text-galeras-code-summarization-3k-deduped\")"
   ]
  },
  {
   "cell_type": "code",
   "execution_count": 7,
   "id": "8b741ca9",
   "metadata": {},
   "outputs": [
    {
     "data": {
      "text/plain": [
       "DatasetDict({\n",
       "    train: Dataset({\n",
       "        features: ['complexity', 'fun_name', 'code', 'commit_id', 'ast_errors', 'ast_levels', 'file_name', 'n_ast_nodes', 'commit_message', 'd_id', 'n_ast_errors', 'n_whitespaces', 'token_counts', 'vocab_size', 'id', 'n_words', 'repo', 'n_identifiers', 'path', 'language', 'nloc', 'documentation', 'url'],\n",
       "        num_rows: 2924\n",
       "    })\n",
       "})"
      ]
     },
     "execution_count": 7,
     "metadata": {},
     "output_type": "execute_result"
    }
   ],
   "source": [
    "ds"
   ]
  },
  {
   "cell_type": "code",
   "execution_count": 14,
   "id": "8e4b850f",
   "metadata": {},
   "outputs": [],
   "source": [
    "# Generating the counterfactual sceneraios \n",
    "pd_code = ds['train'].select_columns(['code', 'documentation']).to_pandas()"
   ]
  },
  {
   "cell_type": "code",
   "execution_count": 16,
   "id": "fe8a1bd7",
   "metadata": {},
   "outputs": [
    {
     "data": {
      "text/html": [
       "<div>\n",
       "<style scoped>\n",
       "    .dataframe tbody tr th:only-of-type {\n",
       "        vertical-align: middle;\n",
       "    }\n",
       "\n",
       "    .dataframe tbody tr th {\n",
       "        vertical-align: top;\n",
       "    }\n",
       "\n",
       "    .dataframe thead th {\n",
       "        text-align: right;\n",
       "    }\n",
       "</style>\n",
       "<table border=\"1\" class=\"dataframe\">\n",
       "  <thead>\n",
       "    <tr style=\"text-align: right;\">\n",
       "      <th></th>\n",
       "      <th>code</th>\n",
       "      <th>documentation</th>\n",
       "    </tr>\n",
       "  </thead>\n",
       "  <tbody>\n",
       "    <tr>\n",
       "      <th>0</th>\n",
       "      <td>def call_bc(self, other_args):\\n        \\n    ...</td>\n",
       "      <td>{'docstring': 'Process bc command\n",
       "            ...</td>\n",
       "    </tr>\n",
       "    <tr>\n",
       "      <th>1</th>\n",
       "      <td>async def communicate(self):\\n        \\n      ...</td>\n",
       "      <td>{'docstring': '\n",
       "        Ensure that the file h...</td>\n",
       "    </tr>\n",
       "    <tr>\n",
       "      <th>2</th>\n",
       "      <td>def test_multi_trial_reuse_with_failing(ray_st...</td>\n",
       "      <td>{'docstring': 'Test that failing trial's actor...</td>\n",
       "    </tr>\n",
       "    <tr>\n",
       "      <th>3</th>\n",
       "      <td>def size_bytes(self) -&gt; int:\\n        \\n      ...</td>\n",
       "      <td>{'docstring': 'Returns the total size in bytes...</td>\n",
       "    </tr>\n",
       "    <tr>\n",
       "      <th>4</th>\n",
       "      <td>def unregister(self, name):\\n        \\n       ...</td>\n",
       "      <td>{'docstring': '\n",
       "        Remove a sequence from...</td>\n",
       "    </tr>\n",
       "  </tbody>\n",
       "</table>\n",
       "</div>"
      ],
      "text/plain": [
       "                                                code  \\\n",
       "0  def call_bc(self, other_args):\\n        \\n    ...   \n",
       "1  async def communicate(self):\\n        \\n      ...   \n",
       "2  def test_multi_trial_reuse_with_failing(ray_st...   \n",
       "3  def size_bytes(self) -> int:\\n        \\n      ...   \n",
       "4  def unregister(self, name):\\n        \\n       ...   \n",
       "\n",
       "                                       documentation  \n",
       "0  {'docstring': 'Process bc command\n",
       "            ...  \n",
       "1  {'docstring': '\n",
       "        Ensure that the file h...  \n",
       "2  {'docstring': 'Test that failing trial's actor...  \n",
       "3  {'docstring': 'Returns the total size in bytes...  \n",
       "4  {'docstring': '\n",
       "        Remove a sequence from...  "
      ]
     },
     "execution_count": 16,
     "metadata": {},
     "output_type": "execute_result"
    }
   ],
   "source": [
    "pd_code[:5]"
   ]
  },
  {
   "cell_type": "code",
   "execution_count": 26,
   "id": "e0bfbaf3",
   "metadata": {},
   "outputs": [
    {
     "data": {
      "text/plain": [
       "'Process bc command\\n            Blockchain explorers URLs for loaded coin. Those are sites like etherescan.io or polkascan.io\\n            in which you can see all blockchain data e.g. all txs, all tokens, all contracts...\\n                                '"
      ]
     },
     "execution_count": 26,
     "metadata": {},
     "output_type": "execute_result"
    }
   ],
   "source": [
    "pd_code['documentation'].iloc[0]['docstring']"
   ]
  }
 ],
 "metadata": {
  "kernelspec": {
   "display_name": ".venv",
   "language": "python",
   "name": "python3"
  },
  "language_info": {
   "codemirror_mode": {
    "name": "ipython",
    "version": 3
   },
   "file_extension": ".py",
   "mimetype": "text/x-python",
   "name": "python",
   "nbconvert_exporter": "python",
   "pygments_lexer": "ipython3",
   "version": "3.12.3"
  }
 },
 "nbformat": 4,
 "nbformat_minor": 5
}
