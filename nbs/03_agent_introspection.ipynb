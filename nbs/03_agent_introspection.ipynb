{
 "cells": [
  {
   "cell_type": "code",
   "execution_count": 1,
   "id": "e949ebe1",
   "metadata": {},
   "outputs": [],
   "source": [
    "from crewai import Agent, Task, Crew\n",
    "from crewai import LLM\n",
    "import os\n",
    "import json\n",
    "import re"
   ]
  },
  {
   "cell_type": "code",
   "execution_count": 2,
   "id": "a71553ce",
   "metadata": {},
   "outputs": [],
   "source": [
    "instrospection_template = json.load(open(\"input/1_software_introspection.json\"))\n",
    "causal_template = json.load(open(\"input/2_causal_interpretability.json\"))"
   ]
  },
  {
   "cell_type": "code",
   "execution_count": null,
   "id": "65d99946",
   "metadata": {},
   "outputs": [],
   "source": [
    "llm = LLM(\n",
    "\n",
    "    #model = \"ollama/codellama:13b\", #13b\n",
    "    #model = \"ollama/gpt-oss:latest\", #20b\n",
    "    #model = \"ollama/devstral:latest\", #24b\n",
    "    model = \"ollama/mistral-small:latest\", #22b\n",
    "    base_url = \"http://localhost:11434\")"
   ]
  },
  {
   "cell_type": "markdown",
   "id": "67e19301",
   "metadata": {},
   "source": [
    "## Scenario A: Code generation text2code task"
   ]
  },
  {
   "cell_type": "code",
   "execution_count": 4,
   "id": "ce1aab99",
   "metadata": {},
   "outputs": [],
   "source": [
    "messages_a = instrospection_template['scenario_a']['step1']['messages']"
   ]
  },
  {
   "cell_type": "code",
   "execution_count": 5,
   "id": "f02ffb3a",
   "metadata": {},
   "outputs": [
    {
     "data": {
      "text/plain": [
       "[{'role': 'system',\n",
       "  'content': 'You are an experienced software engineer. Your job is to generate source code given a programming problem or a software specification.'},\n",
       " {'role': 'user',\n",
       "  'content': '[SOFTWARE TASK] Generate a python method that receives two vectors as parameters and return the cross product.'},\n",
       " {'role': 'user',\n",
       "  'content': '[INTROSPECTION TASK] What are the main factors or variables that you believe influence the decision of generating the {FUNCTION} function? Estimate an attribution weight to each variable. Label the variables in alphabetical order. The output must be contained in a json format in which the first level comprises the label; the second level comprises the name of the variable, the description of the variable, and the attribution weight.'}]"
      ]
     },
     "execution_count": 5,
     "metadata": {},
     "output_type": "execute_result"
    }
   ],
   "source": [
    "messages_a"
   ]
  },
  {
   "cell_type": "code",
   "execution_count": null,
   "id": "8ec6c86c",
   "metadata": {},
   "outputs": [],
   "source": [
    "#messages_a[1]['content'] =' '.join([messages_a[0]['content'], messages_a[1]['content']])"
   ]
  },
  {
   "cell_type": "code",
   "execution_count": null,
   "id": "a84fa354",
   "metadata": {},
   "outputs": [
    {
     "data": {
      "text/plain": [
       "'You are an experienced software engineer. Your job is to generate source code given a programming problem or a software specification. [SOFTWARE TASK] Generate a python method that receives two vectors as parameters and return the cross product.'"
      ]
     },
     "execution_count": 80,
     "metadata": {},
     "output_type": "execute_result"
    }
   ],
   "source": [
    "#messages_a[1]['content']"
   ]
  },
  {
   "cell_type": "code",
   "execution_count": 6,
   "id": "a94ac9c6",
   "metadata": {},
   "outputs": [],
   "source": [
    "def extract_function_name(response):\n",
    "    match = re.search(r\"def\\s+(\\w+)\\s*\\(\", response)\n",
    "    if match:\n",
    "        return match.group(1)\n",
    "    return None"
   ]
  },
  {
   "cell_type": "code",
   "execution_count": 7,
   "id": "ffcaeb76",
   "metadata": {},
   "outputs": [],
   "source": [
    "def process_messages(message,response):\n",
    "    new_message= re.sub(r\"\\[.*?\\]\",\"\", message['content'])\n",
    "    new_response = extract_function_name(response)\n",
    "    if not new_response:\n",
    "        return new_message\n",
    "    new_message = re.sub(r\"\\{FUNCTION\\}\",new_response, new_message)\n",
    "\n",
    "    new_message = re.sub(r\"\\{SUMMARY\\}\",response, new_message)\n",
    "    return new_message"
   ]
  },
  {
   "cell_type": "code",
   "execution_count": 9,
   "id": "55dca6a3",
   "metadata": {},
   "outputs": [
    {
     "name": "stdout",
     "output_type": "stream",
     "text": [
      "You are an experienced software engineer. Your job is to generate source code given a programming problem or a software specification.\n",
      "Great! Please provide the details of the programming problem or software specification that you need help with, and I'll assist you in generating the appropriate source code.\n",
      " Generate a python method that receives two vectors as parameters and return the cross product.\n",
      "Sure! The cross product is an operation on two vectors in three-dimensional space. It results in another vector that is perpendicular to both of the original vectors. Here's a Python method that calculates the cross product of two 3D vectors:\n",
      "\n",
      "```python\n",
      "def cross_product(vector1, vector2):\n",
      "    \"\"\"\n",
      "    Calculate the cross product of two 3D vectors.\n",
      "\n",
      "    Parameters:\n",
      "    vector1 (list or tuple): The first 3D vector.\n",
      "    vector2 (list or tuple): The second 3D vector.\n",
      "\n",
      "    Returns:\n",
      "    list: The resulting cross product vector.\n",
      "    \"\"\"\n",
      "    if len(vector1) != 3 or len(vector2) != 3:\n",
      "        raise ValueError(\"Both vectors must be of length 3.\")\n",
      "\n",
      "    x1, y1, z1 = vector1\n",
      "    x2, y2, z2 = vector2\n",
      "\n",
      "    cross_product_vector = [\n",
      "        y1 * z2 - z1 * y2,\n",
      "        z1 * x2 - x1 * z2,\n",
      "        x1 * y2 - y1 * x2\n",
      "    ]\n",
      "\n",
      "    return cross_product_vector\n",
      "\n",
      "# Example usage:\n",
      "vector_a = [1, 2, 3]\n",
      "vector_b = [4, 5, 6]\n",
      "result = cross_product(vector_a, vector_b)\n",
      "print(\"Cross Product:\", result)\n",
      "```\n",
      "\n",
      "### Explanation:\n",
      "- The method `cross_product` takes two parameters, `vector1` and `vector2`, which are expected to be lists or tuples of length 3.\n",
      "- It first checks if both vectors have exactly three components. If not, it raises a `ValueError`.\n",
      "- It then extracts the components of each vector.\n",
      "- The cross product is calculated using the formula:\n",
      "  ```\n",
      "  (y1 * z2 - z1 * y2, z1 * x2 - x1 * z2, x1 * y2 - y1 * x2)\n",
      "  ```\n",
      "- Finally, it returns the resulting cross product vector.\n",
      "\n",
      "You can use this method to calculate the cross product of any two 3D vectors.\n",
      " What are the main factors or variables that you believe influence the decision of generating the cross_product function? Estimate an attribution weight to each variable. Label the variables in alphabetical order. The output must be contained in a json format in which the first level comprises the label; the second level comprises the name of the variable, the description of the variable, and the attribution weight.\n",
      "```json\n",
      "{\n",
      "  \"A\": {\n",
      "    \"name\": \"Algorithm Complexity\",\n",
      "    \"description\": \"The computational complexity of the cross product calculation. For 3D vectors, this is constant O(1).\",\n",
      "    \"attribution_weight\": 0.25\n",
      "  },\n",
      "  \"B\": {\n",
      "    \"name\": \"Data Structure Choice\",\n",
      "    \"description\": \"The choice of data structure for representing vectors (e.g., lists or tuples). This affects how components are accessed and manipulated.\",\n",
      "    \"attribution_weight\": 0.15\n",
      "  },\n",
      "  \"C\": {\n",
      "    \"name\": \"Error Handling\",\n",
      "    \"description\": \"Including checks to ensure the input vectors have exactly three components, which is crucial for a valid cross product calculation.\",\n",
      "    \"attribution_weight\": 0.20\n",
      "  },\n",
      "  \"D\": {\n",
      "    \"name\": \"Mathematical Accuracy\",\n",
      "    \"description\": \"Ensuring the mathematical formula used for the cross product is correct and efficiently implemented.\",\n",
      "    \"attribution_weight\": 0.30\n",
      "  },\n",
      "  \"E\": {\n",
      "    \"name\": \"Performance Considerations\",\n",
      "    \"description\": \"Optimizing the function for performance, especially if it will be used in performance-critical applications.\",\n",
      "    \"attribution_weight\": 0.10\n",
      "  }\n",
      "}\n",
      "```\n"
     ]
    }
   ],
   "source": [
    "chat_history = []\n",
    "last_response = ''\n",
    "messagges = messages_a.copy()\n",
    "for message in messagges:\n",
    "    message['content'] = process_messages(message, last_response)\n",
    "    print(message['content'])\n",
    "    chat_history.append(message)\n",
    "    last_response = llm.call(messages=chat_history)\n",
    "    #print({'role':'assistant','content':last_response})\n",
    "    print(last_response)\n",
    "    chat_history.append({\"role\": \"assistant\", \"content\": last_response})"
   ]
  },
  {
   "cell_type": "markdown",
   "id": "09c0dab7",
   "metadata": {},
   "source": [
    "'role': 'system', 'content': 'You are an experienced software engineer. Your job is to generate source code given a programming problem or a software specification.'}\n",
    "{'role': 'assistant', 'content': \"\\nAs an AI language model, I can assist you in generating source code based on the input provided. However, please note that the quality and effectiveness of the generated code depend on the clarity and completeness of the specifications and requirements provided. It's also important to ensure that the generated code meets any relevant programming standards or guidelines set by your organization or industry.\"}\n",
    "{'role': 'user', 'content': ' Generate a python method that receives two vectors as parameters and return the cross product.'}\n",
    "{'role': 'assistant', 'content': '```python\\ndef cross_product(v1, v2):\\n    # Calculate the cross product of the two vectors\\n    cross = np.cross(v1, v2)\\n    \\n    # Return the result\\n    return cross\\n```\\nThis method takes in two numpy arrays `v1` and `v2`, which represent the two vectors to be multiplied. The `np.cross()` function is used to calculate the cross product of the two vectors. The resulting vector is then returned as a numpy array.\\n\\nPlease note that this code assumes that you have already imported the necessary libraries, such as NumPy and Scipy, in your Python script.'}\n",
    "{'role': 'user', 'content': ' What are the main factors or variables that you believe influence the decision of generating the cross_product function? Estimate an attribution weight to each variable. Label the variables in alphabetical order. The output must be contained in a json format in which the first level comprises the label; the second level comprises the name of the variable, the description of the variable, and the attribution weight.'}\n",
    "{'role': 'assistant', 'content': ' \n",
    "```json[\\n  {\\n    \"label\": \"attribution weights\",\\n    \"variables\": [\\n      {\\n        \"name\": \"code quality\",\\n        \"description\": \"The quality of the generated code will have a significant impact on its effectiveness and maintainability.\",\\n        \"weight\": \"0.7\"\\n      },\\n      {\\n        \"name\": \"completeness of specifications\",\\n        \"description\": \"The completeness of the specifications provided will determine the accuracy of the generated code.\",\\n        \"weight\": \"0.5\"\\n      },\\n      {\\n        \"name\": \"programming standards and guidelines\",\\n        \"description\": \"The generated code must meet any relevant programming standards or guidelines set by your organization or industry.\",\\n        \"weight\": \"0.3\"\\n      }\\n    ]\\n  }\\n]\\n```'}"
   ]
  },
  {
   "cell_type": "code",
   "execution_count": 9,
   "id": "7dbb1149",
   "metadata": {},
   "outputs": [
    {
     "data": {
      "text/plain": [
       "[]"
      ]
     },
     "execution_count": 9,
     "metadata": {},
     "output_type": "execute_result"
    }
   ],
   "source": [
    "chat_history\n"
   ]
  },
  {
   "cell_type": "code",
   "execution_count": 24,
   "id": "94ca2128",
   "metadata": {},
   "outputs": [
    {
     "data": {
      "text/plain": [
       "[{'role': 'system',\n",
       "  'content': 'You are an experienced software engineer. Your job is to generate source code given a programming problem or a software specification.'},\n",
       " {'role': 'user',\n",
       "  'content': ' Generate a python method that receives two vectors as parameters and return the cross product.'},\n",
       " {'role': 'user', 'content': None}]"
      ]
     },
     "execution_count": 24,
     "metadata": {},
     "output_type": "execute_result"
    }
   ],
   "source": [
    "messages_a"
   ]
  },
  {
   "cell_type": "code",
   "execution_count": null,
   "id": "0a888d99",
   "metadata": {},
   "outputs": [],
   "source": []
  }
 ],
 "metadata": {
  "kernelspec": {
   "display_name": "Python 3",
   "language": "python",
   "name": "python3"
  },
  "language_info": {
   "codemirror_mode": {
    "name": "ipython",
    "version": 3
   },
   "file_extension": ".py",
   "mimetype": "text/x-python",
   "name": "python",
   "nbconvert_exporter": "python",
   "pygments_lexer": "ipython3",
   "version": "3.11.13"
  }
 },
 "nbformat": 4,
 "nbformat_minor": 5
}
